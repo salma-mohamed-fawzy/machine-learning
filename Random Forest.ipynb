{
 "cells": [
  {
   "cell_type": "markdown",
   "id": "1bd22a21",
   "metadata": {},
   "source": [
    "# Machine Learning project"
   ]
  },
  {
   "cell_type": "code",
   "execution_count": 1,
   "id": "a77fecc4",
   "metadata": {},
   "outputs": [],
   "source": [
    "import pandas as pd #for data set manipulation\n",
    "import numpy as np #for mathematical calculations\n",
    "import matplotlib.pyplot as plt #for graphs , charts to unerstand data \n",
    "%matplotlib inline"
   ]
  },
  {
   "cell_type": "markdown",
   "id": "e42d64f9",
   "metadata": {},
   "source": [
    "# reading data"
   ]
  },
  {
   "cell_type": "code",
   "execution_count": 2,
   "id": "f917703d",
   "metadata": {},
   "outputs": [
    {
     "data": {
      "text/html": [
       "<div>\n",
       "<style scoped>\n",
       "    .dataframe tbody tr th:only-of-type {\n",
       "        vertical-align: middle;\n",
       "    }\n",
       "\n",
       "    .dataframe tbody tr th {\n",
       "        vertical-align: top;\n",
       "    }\n",
       "\n",
       "    .dataframe thead th {\n",
       "        text-align: right;\n",
       "    }\n",
       "</style>\n",
       "<table border=\"1\" class=\"dataframe\">\n",
       "  <thead>\n",
       "    <tr style=\"text-align: right;\">\n",
       "      <th></th>\n",
       "      <th>Gender</th>\n",
       "      <th>Age</th>\n",
       "      <th>Height</th>\n",
       "      <th>Weight</th>\n",
       "      <th>family_history_with_overweight</th>\n",
       "      <th>FAVC</th>\n",
       "      <th>FCVC</th>\n",
       "      <th>NCP</th>\n",
       "      <th>CAEC</th>\n",
       "      <th>SMOKE</th>\n",
       "      <th>CH2O</th>\n",
       "      <th>SCC</th>\n",
       "      <th>FAF</th>\n",
       "      <th>TUE</th>\n",
       "      <th>CALC</th>\n",
       "      <th>MTRANS</th>\n",
       "      <th>NObeyesdad</th>\n",
       "    </tr>\n",
       "  </thead>\n",
       "  <tbody>\n",
       "    <tr>\n",
       "      <th>0</th>\n",
       "      <td>Female</td>\n",
       "      <td>21.0</td>\n",
       "      <td>1.62</td>\n",
       "      <td>64.0</td>\n",
       "      <td>yes</td>\n",
       "      <td>no</td>\n",
       "      <td>2.0</td>\n",
       "      <td>3.0</td>\n",
       "      <td>Sometimes</td>\n",
       "      <td>no</td>\n",
       "      <td>2.0</td>\n",
       "      <td>no</td>\n",
       "      <td>0.0</td>\n",
       "      <td>1.0</td>\n",
       "      <td>no</td>\n",
       "      <td>Public_Transportation</td>\n",
       "      <td>Normal_Weight</td>\n",
       "    </tr>\n",
       "    <tr>\n",
       "      <th>1</th>\n",
       "      <td>Female</td>\n",
       "      <td>21.0</td>\n",
       "      <td>1.52</td>\n",
       "      <td>56.0</td>\n",
       "      <td>yes</td>\n",
       "      <td>no</td>\n",
       "      <td>3.0</td>\n",
       "      <td>3.0</td>\n",
       "      <td>Sometimes</td>\n",
       "      <td>yes</td>\n",
       "      <td>3.0</td>\n",
       "      <td>yes</td>\n",
       "      <td>3.0</td>\n",
       "      <td>0.0</td>\n",
       "      <td>Sometimes</td>\n",
       "      <td>Public_Transportation</td>\n",
       "      <td>Normal_Weight</td>\n",
       "    </tr>\n",
       "    <tr>\n",
       "      <th>2</th>\n",
       "      <td>Male</td>\n",
       "      <td>23.0</td>\n",
       "      <td>1.80</td>\n",
       "      <td>77.0</td>\n",
       "      <td>yes</td>\n",
       "      <td>no</td>\n",
       "      <td>2.0</td>\n",
       "      <td>3.0</td>\n",
       "      <td>Sometimes</td>\n",
       "      <td>no</td>\n",
       "      <td>2.0</td>\n",
       "      <td>no</td>\n",
       "      <td>2.0</td>\n",
       "      <td>1.0</td>\n",
       "      <td>Frequently</td>\n",
       "      <td>Public_Transportation</td>\n",
       "      <td>Normal_Weight</td>\n",
       "    </tr>\n",
       "    <tr>\n",
       "      <th>3</th>\n",
       "      <td>Male</td>\n",
       "      <td>27.0</td>\n",
       "      <td>1.80</td>\n",
       "      <td>87.0</td>\n",
       "      <td>no</td>\n",
       "      <td>no</td>\n",
       "      <td>3.0</td>\n",
       "      <td>3.0</td>\n",
       "      <td>Sometimes</td>\n",
       "      <td>no</td>\n",
       "      <td>2.0</td>\n",
       "      <td>no</td>\n",
       "      <td>2.0</td>\n",
       "      <td>0.0</td>\n",
       "      <td>Frequently</td>\n",
       "      <td>Walking</td>\n",
       "      <td>Overweight_Level_I</td>\n",
       "    </tr>\n",
       "    <tr>\n",
       "      <th>4</th>\n",
       "      <td>Male</td>\n",
       "      <td>22.0</td>\n",
       "      <td>1.78</td>\n",
       "      <td>89.8</td>\n",
       "      <td>no</td>\n",
       "      <td>no</td>\n",
       "      <td>2.0</td>\n",
       "      <td>1.0</td>\n",
       "      <td>Sometimes</td>\n",
       "      <td>no</td>\n",
       "      <td>2.0</td>\n",
       "      <td>no</td>\n",
       "      <td>0.0</td>\n",
       "      <td>0.0</td>\n",
       "      <td>Sometimes</td>\n",
       "      <td>Public_Transportation</td>\n",
       "      <td>Overweight_Level_II</td>\n",
       "    </tr>\n",
       "  </tbody>\n",
       "</table>\n",
       "</div>"
      ],
      "text/plain": [
       "   Gender   Age  Height  Weight family_history_with_overweight FAVC  FCVC  \\\n",
       "0  Female  21.0    1.62    64.0                            yes   no   2.0   \n",
       "1  Female  21.0    1.52    56.0                            yes   no   3.0   \n",
       "2    Male  23.0    1.80    77.0                            yes   no   2.0   \n",
       "3    Male  27.0    1.80    87.0                             no   no   3.0   \n",
       "4    Male  22.0    1.78    89.8                             no   no   2.0   \n",
       "\n",
       "   NCP       CAEC SMOKE  CH2O  SCC  FAF  TUE        CALC  \\\n",
       "0  3.0  Sometimes    no   2.0   no  0.0  1.0          no   \n",
       "1  3.0  Sometimes   yes   3.0  yes  3.0  0.0   Sometimes   \n",
       "2  3.0  Sometimes    no   2.0   no  2.0  1.0  Frequently   \n",
       "3  3.0  Sometimes    no   2.0   no  2.0  0.0  Frequently   \n",
       "4  1.0  Sometimes    no   2.0   no  0.0  0.0   Sometimes   \n",
       "\n",
       "                  MTRANS           NObeyesdad  \n",
       "0  Public_Transportation        Normal_Weight  \n",
       "1  Public_Transportation        Normal_Weight  \n",
       "2  Public_Transportation        Normal_Weight  \n",
       "3                Walking   Overweight_Level_I  \n",
       "4  Public_Transportation  Overweight_Level_II  "
      ]
     },
     "execution_count": 2,
     "metadata": {},
     "output_type": "execute_result"
    }
   ],
   "source": [
    "data=pd.read_csv('Obesity based on eating habits & physical cond\\ObesityDataSet_raw_and_data_sinthetic.csv')\n",
    "data.head()"
   ]
  },
  {
   "cell_type": "markdown",
   "id": "ea4b4cc8",
   "metadata": {},
   "source": [
    "# preprocessing"
   ]
  },
  {
   "cell_type": "code",
   "execution_count": 3,
   "id": "6611726b",
   "metadata": {},
   "outputs": [
    {
     "name": "stdout",
     "output_type": "stream",
     "text": [
      "<class 'pandas.core.frame.DataFrame'>\n",
      "RangeIndex: 2111 entries, 0 to 2110\n",
      "Data columns (total 17 columns):\n",
      " #   Column                          Non-Null Count  Dtype  \n",
      "---  ------                          --------------  -----  \n",
      " 0   Gender                          2111 non-null   object \n",
      " 1   Age                             2111 non-null   float64\n",
      " 2   Height                          2111 non-null   float64\n",
      " 3   Weight                          2111 non-null   float64\n",
      " 4   family_history_with_overweight  2111 non-null   object \n",
      " 5   FAVC                            2111 non-null   object \n",
      " 6   FCVC                            2111 non-null   float64\n",
      " 7   NCP                             2111 non-null   float64\n",
      " 8   CAEC                            2111 non-null   object \n",
      " 9   SMOKE                           2111 non-null   object \n",
      " 10  CH2O                            2111 non-null   float64\n",
      " 11  SCC                             2111 non-null   object \n",
      " 12  FAF                             2111 non-null   float64\n",
      " 13  TUE                             2111 non-null   float64\n",
      " 14  CALC                            2111 non-null   object \n",
      " 15  MTRANS                          2111 non-null   object \n",
      " 16  NObeyesdad                      2111 non-null   object \n",
      "dtypes: float64(8), object(9)\n",
      "memory usage: 280.5+ KB\n"
     ]
    }
   ],
   "source": [
    "data.info()    #to see if there is missing data in the data set "
   ]
  },
  {
   "cell_type": "code",
   "execution_count": 4,
   "id": "1e1a2e7a",
   "metadata": {},
   "outputs": [],
   "source": [
    "#then, there is no missing values in the data set "
   ]
  },
  {
   "cell_type": "code",
   "execution_count": 5,
   "id": "d43856e7",
   "metadata": {},
   "outputs": [
    {
     "name": "stdout",
     "output_type": "stream",
     "text": [
      "Gender                            0\n",
      "Age                               0\n",
      "Height                            0\n",
      "Weight                            0\n",
      "family_history_with_overweight    0\n",
      "FAVC                              0\n",
      "FCVC                              0\n",
      "NCP                               0\n",
      "CAEC                              0\n",
      "SMOKE                             0\n",
      "CH2O                              0\n",
      "SCC                               0\n",
      "FAF                               0\n",
      "TUE                               0\n",
      "CALC                              0\n",
      "MTRANS                            0\n",
      "NObeyesdad                        0\n",
      "dtype: int64\n"
     ]
    }
   ],
   "source": [
    "#another way to check MV\n",
    "print(data.isnull().sum())"
   ]
  },
  {
   "cell_type": "code",
   "execution_count": 6,
   "id": "d101e20d",
   "metadata": {},
   "outputs": [
    {
     "data": {
      "text/html": [
       "<div>\n",
       "<style scoped>\n",
       "    .dataframe tbody tr th:only-of-type {\n",
       "        vertical-align: middle;\n",
       "    }\n",
       "\n",
       "    .dataframe tbody tr th {\n",
       "        vertical-align: top;\n",
       "    }\n",
       "\n",
       "    .dataframe thead th {\n",
       "        text-align: right;\n",
       "    }\n",
       "</style>\n",
       "<table border=\"1\" class=\"dataframe\">\n",
       "  <thead>\n",
       "    <tr style=\"text-align: right;\">\n",
       "      <th></th>\n",
       "      <th>Gender</th>\n",
       "      <th>Age</th>\n",
       "      <th>Height</th>\n",
       "      <th>Weight</th>\n",
       "      <th>family_history_with_overweight</th>\n",
       "      <th>FAVC</th>\n",
       "      <th>FCVC</th>\n",
       "      <th>NCP</th>\n",
       "      <th>CAEC</th>\n",
       "      <th>SMOKE</th>\n",
       "      <th>CH2O</th>\n",
       "      <th>SCC</th>\n",
       "      <th>FAF</th>\n",
       "      <th>TUE</th>\n",
       "      <th>CALC</th>\n",
       "      <th>MTRANS</th>\n",
       "      <th>NObeyesdad</th>\n",
       "    </tr>\n",
       "  </thead>\n",
       "  <tbody>\n",
       "    <tr>\n",
       "      <th>0</th>\n",
       "      <td>False</td>\n",
       "      <td>False</td>\n",
       "      <td>False</td>\n",
       "      <td>False</td>\n",
       "      <td>False</td>\n",
       "      <td>False</td>\n",
       "      <td>False</td>\n",
       "      <td>False</td>\n",
       "      <td>False</td>\n",
       "      <td>False</td>\n",
       "      <td>False</td>\n",
       "      <td>False</td>\n",
       "      <td>False</td>\n",
       "      <td>False</td>\n",
       "      <td>False</td>\n",
       "      <td>False</td>\n",
       "      <td>False</td>\n",
       "    </tr>\n",
       "    <tr>\n",
       "      <th>1</th>\n",
       "      <td>False</td>\n",
       "      <td>False</td>\n",
       "      <td>False</td>\n",
       "      <td>False</td>\n",
       "      <td>False</td>\n",
       "      <td>False</td>\n",
       "      <td>False</td>\n",
       "      <td>False</td>\n",
       "      <td>False</td>\n",
       "      <td>False</td>\n",
       "      <td>False</td>\n",
       "      <td>False</td>\n",
       "      <td>False</td>\n",
       "      <td>False</td>\n",
       "      <td>False</td>\n",
       "      <td>False</td>\n",
       "      <td>False</td>\n",
       "    </tr>\n",
       "    <tr>\n",
       "      <th>2</th>\n",
       "      <td>False</td>\n",
       "      <td>False</td>\n",
       "      <td>False</td>\n",
       "      <td>False</td>\n",
       "      <td>False</td>\n",
       "      <td>False</td>\n",
       "      <td>False</td>\n",
       "      <td>False</td>\n",
       "      <td>False</td>\n",
       "      <td>False</td>\n",
       "      <td>False</td>\n",
       "      <td>False</td>\n",
       "      <td>False</td>\n",
       "      <td>False</td>\n",
       "      <td>False</td>\n",
       "      <td>False</td>\n",
       "      <td>False</td>\n",
       "    </tr>\n",
       "    <tr>\n",
       "      <th>3</th>\n",
       "      <td>False</td>\n",
       "      <td>False</td>\n",
       "      <td>False</td>\n",
       "      <td>False</td>\n",
       "      <td>False</td>\n",
       "      <td>False</td>\n",
       "      <td>False</td>\n",
       "      <td>False</td>\n",
       "      <td>False</td>\n",
       "      <td>False</td>\n",
       "      <td>False</td>\n",
       "      <td>False</td>\n",
       "      <td>False</td>\n",
       "      <td>False</td>\n",
       "      <td>False</td>\n",
       "      <td>False</td>\n",
       "      <td>False</td>\n",
       "    </tr>\n",
       "    <tr>\n",
       "      <th>4</th>\n",
       "      <td>False</td>\n",
       "      <td>False</td>\n",
       "      <td>False</td>\n",
       "      <td>False</td>\n",
       "      <td>False</td>\n",
       "      <td>False</td>\n",
       "      <td>False</td>\n",
       "      <td>False</td>\n",
       "      <td>False</td>\n",
       "      <td>False</td>\n",
       "      <td>False</td>\n",
       "      <td>False</td>\n",
       "      <td>False</td>\n",
       "      <td>False</td>\n",
       "      <td>False</td>\n",
       "      <td>False</td>\n",
       "      <td>False</td>\n",
       "    </tr>\n",
       "    <tr>\n",
       "      <th>...</th>\n",
       "      <td>...</td>\n",
       "      <td>...</td>\n",
       "      <td>...</td>\n",
       "      <td>...</td>\n",
       "      <td>...</td>\n",
       "      <td>...</td>\n",
       "      <td>...</td>\n",
       "      <td>...</td>\n",
       "      <td>...</td>\n",
       "      <td>...</td>\n",
       "      <td>...</td>\n",
       "      <td>...</td>\n",
       "      <td>...</td>\n",
       "      <td>...</td>\n",
       "      <td>...</td>\n",
       "      <td>...</td>\n",
       "      <td>...</td>\n",
       "    </tr>\n",
       "    <tr>\n",
       "      <th>2106</th>\n",
       "      <td>False</td>\n",
       "      <td>False</td>\n",
       "      <td>False</td>\n",
       "      <td>False</td>\n",
       "      <td>False</td>\n",
       "      <td>False</td>\n",
       "      <td>False</td>\n",
       "      <td>False</td>\n",
       "      <td>False</td>\n",
       "      <td>False</td>\n",
       "      <td>False</td>\n",
       "      <td>False</td>\n",
       "      <td>False</td>\n",
       "      <td>False</td>\n",
       "      <td>False</td>\n",
       "      <td>False</td>\n",
       "      <td>False</td>\n",
       "    </tr>\n",
       "    <tr>\n",
       "      <th>2107</th>\n",
       "      <td>False</td>\n",
       "      <td>False</td>\n",
       "      <td>False</td>\n",
       "      <td>False</td>\n",
       "      <td>False</td>\n",
       "      <td>False</td>\n",
       "      <td>False</td>\n",
       "      <td>False</td>\n",
       "      <td>False</td>\n",
       "      <td>False</td>\n",
       "      <td>False</td>\n",
       "      <td>False</td>\n",
       "      <td>False</td>\n",
       "      <td>False</td>\n",
       "      <td>False</td>\n",
       "      <td>False</td>\n",
       "      <td>False</td>\n",
       "    </tr>\n",
       "    <tr>\n",
       "      <th>2108</th>\n",
       "      <td>False</td>\n",
       "      <td>False</td>\n",
       "      <td>False</td>\n",
       "      <td>False</td>\n",
       "      <td>False</td>\n",
       "      <td>False</td>\n",
       "      <td>False</td>\n",
       "      <td>False</td>\n",
       "      <td>False</td>\n",
       "      <td>False</td>\n",
       "      <td>False</td>\n",
       "      <td>False</td>\n",
       "      <td>False</td>\n",
       "      <td>False</td>\n",
       "      <td>False</td>\n",
       "      <td>False</td>\n",
       "      <td>False</td>\n",
       "    </tr>\n",
       "    <tr>\n",
       "      <th>2109</th>\n",
       "      <td>False</td>\n",
       "      <td>False</td>\n",
       "      <td>False</td>\n",
       "      <td>False</td>\n",
       "      <td>False</td>\n",
       "      <td>False</td>\n",
       "      <td>False</td>\n",
       "      <td>False</td>\n",
       "      <td>False</td>\n",
       "      <td>False</td>\n",
       "      <td>False</td>\n",
       "      <td>False</td>\n",
       "      <td>False</td>\n",
       "      <td>False</td>\n",
       "      <td>False</td>\n",
       "      <td>False</td>\n",
       "      <td>False</td>\n",
       "    </tr>\n",
       "    <tr>\n",
       "      <th>2110</th>\n",
       "      <td>False</td>\n",
       "      <td>False</td>\n",
       "      <td>False</td>\n",
       "      <td>False</td>\n",
       "      <td>False</td>\n",
       "      <td>False</td>\n",
       "      <td>False</td>\n",
       "      <td>False</td>\n",
       "      <td>False</td>\n",
       "      <td>False</td>\n",
       "      <td>False</td>\n",
       "      <td>False</td>\n",
       "      <td>False</td>\n",
       "      <td>False</td>\n",
       "      <td>False</td>\n",
       "      <td>False</td>\n",
       "      <td>False</td>\n",
       "    </tr>\n",
       "  </tbody>\n",
       "</table>\n",
       "<p>2111 rows × 17 columns</p>\n",
       "</div>"
      ],
      "text/plain": [
       "      Gender    Age  Height  Weight  family_history_with_overweight   FAVC  \\\n",
       "0      False  False   False   False                           False  False   \n",
       "1      False  False   False   False                           False  False   \n",
       "2      False  False   False   False                           False  False   \n",
       "3      False  False   False   False                           False  False   \n",
       "4      False  False   False   False                           False  False   \n",
       "...      ...    ...     ...     ...                             ...    ...   \n",
       "2106   False  False   False   False                           False  False   \n",
       "2107   False  False   False   False                           False  False   \n",
       "2108   False  False   False   False                           False  False   \n",
       "2109   False  False   False   False                           False  False   \n",
       "2110   False  False   False   False                           False  False   \n",
       "\n",
       "       FCVC    NCP   CAEC  SMOKE   CH2O    SCC    FAF    TUE   CALC  MTRANS  \\\n",
       "0     False  False  False  False  False  False  False  False  False   False   \n",
       "1     False  False  False  False  False  False  False  False  False   False   \n",
       "2     False  False  False  False  False  False  False  False  False   False   \n",
       "3     False  False  False  False  False  False  False  False  False   False   \n",
       "4     False  False  False  False  False  False  False  False  False   False   \n",
       "...     ...    ...    ...    ...    ...    ...    ...    ...    ...     ...   \n",
       "2106  False  False  False  False  False  False  False  False  False   False   \n",
       "2107  False  False  False  False  False  False  False  False  False   False   \n",
       "2108  False  False  False  False  False  False  False  False  False   False   \n",
       "2109  False  False  False  False  False  False  False  False  False   False   \n",
       "2110  False  False  False  False  False  False  False  False  False   False   \n",
       "\n",
       "      NObeyesdad  \n",
       "0          False  \n",
       "1          False  \n",
       "2          False  \n",
       "3          False  \n",
       "4          False  \n",
       "...          ...  \n",
       "2106       False  \n",
       "2107       False  \n",
       "2108       False  \n",
       "2109       False  \n",
       "2110       False  \n",
       "\n",
       "[2111 rows x 17 columns]"
      ]
     },
     "execution_count": 6,
     "metadata": {},
     "output_type": "execute_result"
    }
   ],
   "source": [
    "data.isnull()          #if thereis no missing value, then it returns false"
   ]
  },
  {
   "cell_type": "code",
   "execution_count": 7,
   "id": "8cb6e751",
   "metadata": {},
   "outputs": [
    {
     "data": {
      "text/plain": [
       "Gender                             object\n",
       "Age                               float64\n",
       "Height                            float64\n",
       "Weight                            float64\n",
       "family_history_with_overweight     object\n",
       "FAVC                               object\n",
       "FCVC                              float64\n",
       "NCP                               float64\n",
       "CAEC                               object\n",
       "SMOKE                              object\n",
       "CH2O                              float64\n",
       "SCC                                object\n",
       "FAF                               float64\n",
       "TUE                               float64\n",
       "CALC                               object\n",
       "MTRANS                             object\n",
       "NObeyesdad                         object\n",
       "dtype: object"
      ]
     },
     "execution_count": 7,
     "metadata": {},
     "output_type": "execute_result"
    }
   ],
   "source": [
    "#for checking if there is categorical data\n",
    "data.dtypes"
   ]
  },
  {
   "cell_type": "code",
   "execution_count": 8,
   "id": "96464164",
   "metadata": {},
   "outputs": [
    {
     "name": "stdout",
     "output_type": "stream",
     "text": [
      "['Female' 'Male']\n",
      "['yes' 'no']\n",
      "['no' 'yes']\n",
      "['Sometimes' 'Frequently' 'Always' 'no']\n",
      "['no' 'yes']\n",
      "['no' 'yes']\n",
      "['no' 'Sometimes' 'Frequently' 'Always']\n",
      "['Public_Transportation' 'Walking' 'Automobile' 'Motorbike' 'Bike']\n",
      "['Normal_Weight' 'Overweight_Level_I' 'Overweight_Level_II'\n",
      " 'Obesity_Type_I' 'Insufficient_Weight' 'Obesity_Type_II'\n",
      " 'Obesity_Type_III']\n"
     ]
    }
   ],
   "source": [
    "print( data['Gender'].unique())\n",
    "print(data['family_history_with_overweight'].unique())\n",
    "print (data['FAVC'].unique())\n",
    "print(data['CAEC'].unique())\n",
    "print(data['SMOKE'].unique())\n",
    "print(data['SCC'].unique())\n",
    "print(data['CALC'].unique())\n",
    "print(data['MTRANS'].unique())\n",
    "print(data['NObeyesdad'].unique())\n",
    "  #to show unique values of features of data type object"
   ]
  },
  {
   "cell_type": "code",
   "execution_count": 9,
   "id": "50907a9b",
   "metadata": {},
   "outputs": [
    {
     "data": {
      "text/html": [
       "<div>\n",
       "<style scoped>\n",
       "    .dataframe tbody tr th:only-of-type {\n",
       "        vertical-align: middle;\n",
       "    }\n",
       "\n",
       "    .dataframe tbody tr th {\n",
       "        vertical-align: top;\n",
       "    }\n",
       "\n",
       "    .dataframe thead th {\n",
       "        text-align: right;\n",
       "    }\n",
       "</style>\n",
       "<table border=\"1\" class=\"dataframe\">\n",
       "  <thead>\n",
       "    <tr style=\"text-align: right;\">\n",
       "      <th></th>\n",
       "      <th>Gender</th>\n",
       "      <th>Age</th>\n",
       "      <th>Height</th>\n",
       "      <th>Weight</th>\n",
       "      <th>family_history_with_overweight</th>\n",
       "      <th>FAVC</th>\n",
       "      <th>FCVC</th>\n",
       "      <th>NCP</th>\n",
       "      <th>CAEC</th>\n",
       "      <th>SMOKE</th>\n",
       "      <th>CH2O</th>\n",
       "      <th>SCC</th>\n",
       "      <th>FAF</th>\n",
       "      <th>TUE</th>\n",
       "      <th>CALC</th>\n",
       "      <th>MTRANS</th>\n",
       "      <th>NObeyesdad</th>\n",
       "    </tr>\n",
       "  </thead>\n",
       "  <tbody>\n",
       "    <tr>\n",
       "      <th>0</th>\n",
       "      <td>0</td>\n",
       "      <td>21.000000</td>\n",
       "      <td>1.620000</td>\n",
       "      <td>64.000000</td>\n",
       "      <td>1</td>\n",
       "      <td>0</td>\n",
       "      <td>2.0</td>\n",
       "      <td>3.0</td>\n",
       "      <td>0</td>\n",
       "      <td>0</td>\n",
       "      <td>2.000000</td>\n",
       "      <td>0</td>\n",
       "      <td>0.000000</td>\n",
       "      <td>1.000000</td>\n",
       "      <td>3</td>\n",
       "      <td>0</td>\n",
       "      <td>0</td>\n",
       "    </tr>\n",
       "    <tr>\n",
       "      <th>1</th>\n",
       "      <td>0</td>\n",
       "      <td>21.000000</td>\n",
       "      <td>1.520000</td>\n",
       "      <td>56.000000</td>\n",
       "      <td>1</td>\n",
       "      <td>0</td>\n",
       "      <td>3.0</td>\n",
       "      <td>3.0</td>\n",
       "      <td>0</td>\n",
       "      <td>1</td>\n",
       "      <td>3.000000</td>\n",
       "      <td>1</td>\n",
       "      <td>3.000000</td>\n",
       "      <td>0.000000</td>\n",
       "      <td>0</td>\n",
       "      <td>0</td>\n",
       "      <td>0</td>\n",
       "    </tr>\n",
       "    <tr>\n",
       "      <th>2</th>\n",
       "      <td>1</td>\n",
       "      <td>23.000000</td>\n",
       "      <td>1.800000</td>\n",
       "      <td>77.000000</td>\n",
       "      <td>1</td>\n",
       "      <td>0</td>\n",
       "      <td>2.0</td>\n",
       "      <td>3.0</td>\n",
       "      <td>0</td>\n",
       "      <td>0</td>\n",
       "      <td>2.000000</td>\n",
       "      <td>0</td>\n",
       "      <td>2.000000</td>\n",
       "      <td>1.000000</td>\n",
       "      <td>1</td>\n",
       "      <td>0</td>\n",
       "      <td>0</td>\n",
       "    </tr>\n",
       "    <tr>\n",
       "      <th>3</th>\n",
       "      <td>1</td>\n",
       "      <td>27.000000</td>\n",
       "      <td>1.800000</td>\n",
       "      <td>87.000000</td>\n",
       "      <td>0</td>\n",
       "      <td>0</td>\n",
       "      <td>3.0</td>\n",
       "      <td>3.0</td>\n",
       "      <td>0</td>\n",
       "      <td>0</td>\n",
       "      <td>2.000000</td>\n",
       "      <td>0</td>\n",
       "      <td>2.000000</td>\n",
       "      <td>0.000000</td>\n",
       "      <td>1</td>\n",
       "      <td>1</td>\n",
       "      <td>1</td>\n",
       "    </tr>\n",
       "    <tr>\n",
       "      <th>4</th>\n",
       "      <td>1</td>\n",
       "      <td>22.000000</td>\n",
       "      <td>1.780000</td>\n",
       "      <td>89.800000</td>\n",
       "      <td>0</td>\n",
       "      <td>0</td>\n",
       "      <td>2.0</td>\n",
       "      <td>1.0</td>\n",
       "      <td>0</td>\n",
       "      <td>0</td>\n",
       "      <td>2.000000</td>\n",
       "      <td>0</td>\n",
       "      <td>0.000000</td>\n",
       "      <td>0.000000</td>\n",
       "      <td>0</td>\n",
       "      <td>0</td>\n",
       "      <td>2</td>\n",
       "    </tr>\n",
       "    <tr>\n",
       "      <th>...</th>\n",
       "      <td>...</td>\n",
       "      <td>...</td>\n",
       "      <td>...</td>\n",
       "      <td>...</td>\n",
       "      <td>...</td>\n",
       "      <td>...</td>\n",
       "      <td>...</td>\n",
       "      <td>...</td>\n",
       "      <td>...</td>\n",
       "      <td>...</td>\n",
       "      <td>...</td>\n",
       "      <td>...</td>\n",
       "      <td>...</td>\n",
       "      <td>...</td>\n",
       "      <td>...</td>\n",
       "      <td>...</td>\n",
       "      <td>...</td>\n",
       "    </tr>\n",
       "    <tr>\n",
       "      <th>2106</th>\n",
       "      <td>0</td>\n",
       "      <td>20.976842</td>\n",
       "      <td>1.710730</td>\n",
       "      <td>131.408528</td>\n",
       "      <td>1</td>\n",
       "      <td>1</td>\n",
       "      <td>3.0</td>\n",
       "      <td>3.0</td>\n",
       "      <td>0</td>\n",
       "      <td>0</td>\n",
       "      <td>1.728139</td>\n",
       "      <td>0</td>\n",
       "      <td>1.676269</td>\n",
       "      <td>0.906247</td>\n",
       "      <td>0</td>\n",
       "      <td>0</td>\n",
       "      <td>6</td>\n",
       "    </tr>\n",
       "    <tr>\n",
       "      <th>2107</th>\n",
       "      <td>0</td>\n",
       "      <td>21.982942</td>\n",
       "      <td>1.748584</td>\n",
       "      <td>133.742943</td>\n",
       "      <td>1</td>\n",
       "      <td>1</td>\n",
       "      <td>3.0</td>\n",
       "      <td>3.0</td>\n",
       "      <td>0</td>\n",
       "      <td>0</td>\n",
       "      <td>2.005130</td>\n",
       "      <td>0</td>\n",
       "      <td>1.341390</td>\n",
       "      <td>0.599270</td>\n",
       "      <td>0</td>\n",
       "      <td>0</td>\n",
       "      <td>6</td>\n",
       "    </tr>\n",
       "    <tr>\n",
       "      <th>2108</th>\n",
       "      <td>0</td>\n",
       "      <td>22.524036</td>\n",
       "      <td>1.752206</td>\n",
       "      <td>133.689352</td>\n",
       "      <td>1</td>\n",
       "      <td>1</td>\n",
       "      <td>3.0</td>\n",
       "      <td>3.0</td>\n",
       "      <td>0</td>\n",
       "      <td>0</td>\n",
       "      <td>2.054193</td>\n",
       "      <td>0</td>\n",
       "      <td>1.414209</td>\n",
       "      <td>0.646288</td>\n",
       "      <td>0</td>\n",
       "      <td>0</td>\n",
       "      <td>6</td>\n",
       "    </tr>\n",
       "    <tr>\n",
       "      <th>2109</th>\n",
       "      <td>0</td>\n",
       "      <td>24.361936</td>\n",
       "      <td>1.739450</td>\n",
       "      <td>133.346641</td>\n",
       "      <td>1</td>\n",
       "      <td>1</td>\n",
       "      <td>3.0</td>\n",
       "      <td>3.0</td>\n",
       "      <td>0</td>\n",
       "      <td>0</td>\n",
       "      <td>2.852339</td>\n",
       "      <td>0</td>\n",
       "      <td>1.139107</td>\n",
       "      <td>0.586035</td>\n",
       "      <td>0</td>\n",
       "      <td>0</td>\n",
       "      <td>6</td>\n",
       "    </tr>\n",
       "    <tr>\n",
       "      <th>2110</th>\n",
       "      <td>0</td>\n",
       "      <td>23.664709</td>\n",
       "      <td>1.738836</td>\n",
       "      <td>133.472641</td>\n",
       "      <td>1</td>\n",
       "      <td>1</td>\n",
       "      <td>3.0</td>\n",
       "      <td>3.0</td>\n",
       "      <td>0</td>\n",
       "      <td>0</td>\n",
       "      <td>2.863513</td>\n",
       "      <td>0</td>\n",
       "      <td>1.026452</td>\n",
       "      <td>0.714137</td>\n",
       "      <td>0</td>\n",
       "      <td>0</td>\n",
       "      <td>6</td>\n",
       "    </tr>\n",
       "  </tbody>\n",
       "</table>\n",
       "<p>2111 rows × 17 columns</p>\n",
       "</div>"
      ],
      "text/plain": [
       "      Gender        Age    Height      Weight  family_history_with_overweight  \\\n",
       "0          0  21.000000  1.620000   64.000000                               1   \n",
       "1          0  21.000000  1.520000   56.000000                               1   \n",
       "2          1  23.000000  1.800000   77.000000                               1   \n",
       "3          1  27.000000  1.800000   87.000000                               0   \n",
       "4          1  22.000000  1.780000   89.800000                               0   \n",
       "...      ...        ...       ...         ...                             ...   \n",
       "2106       0  20.976842  1.710730  131.408528                               1   \n",
       "2107       0  21.982942  1.748584  133.742943                               1   \n",
       "2108       0  22.524036  1.752206  133.689352                               1   \n",
       "2109       0  24.361936  1.739450  133.346641                               1   \n",
       "2110       0  23.664709  1.738836  133.472641                               1   \n",
       "\n",
       "      FAVC  FCVC  NCP  CAEC  SMOKE      CH2O  SCC       FAF       TUE  CALC  \\\n",
       "0        0   2.0  3.0     0      0  2.000000    0  0.000000  1.000000     3   \n",
       "1        0   3.0  3.0     0      1  3.000000    1  3.000000  0.000000     0   \n",
       "2        0   2.0  3.0     0      0  2.000000    0  2.000000  1.000000     1   \n",
       "3        0   3.0  3.0     0      0  2.000000    0  2.000000  0.000000     1   \n",
       "4        0   2.0  1.0     0      0  2.000000    0  0.000000  0.000000     0   \n",
       "...    ...   ...  ...   ...    ...       ...  ...       ...       ...   ...   \n",
       "2106     1   3.0  3.0     0      0  1.728139    0  1.676269  0.906247     0   \n",
       "2107     1   3.0  3.0     0      0  2.005130    0  1.341390  0.599270     0   \n",
       "2108     1   3.0  3.0     0      0  2.054193    0  1.414209  0.646288     0   \n",
       "2109     1   3.0  3.0     0      0  2.852339    0  1.139107  0.586035     0   \n",
       "2110     1   3.0  3.0     0      0  2.863513    0  1.026452  0.714137     0   \n",
       "\n",
       "      MTRANS  NObeyesdad  \n",
       "0          0           0  \n",
       "1          0           0  \n",
       "2          0           0  \n",
       "3          1           1  \n",
       "4          0           2  \n",
       "...      ...         ...  \n",
       "2106       0           6  \n",
       "2107       0           6  \n",
       "2108       0           6  \n",
       "2109       0           6  \n",
       "2110       0           6  \n",
       "\n",
       "[2111 rows x 17 columns]"
      ]
     },
     "execution_count": 9,
     "metadata": {},
     "output_type": "execute_result"
    }
   ],
   "source": [
    "data_encoded=data.replace({\n",
    "        'Gender':{'Male':1,'Female':0},\n",
    "        'family_history_with_overweight':{'no':0,'yes':1},\n",
    "        'FAVC':{'no':0,'yes':1},\n",
    "        'CAEC':{'Sometimes':0,'Frequently':1,'Always':2,'no':3},\n",
    "        'SMOKE':{'no':0,'yes':1},\n",
    "        'SCC':{'no':0,'yes':1},\n",
    "        'CALC':{'Sometimes':0,'Frequently':1,'Always':2,'no':3},\n",
    "        'MTRANS':{'Public_Transportation':0, 'Walking':1, 'Automobile':2, 'Motorbike':3,'Bike':4},\n",
    "        'NObeyesdad':{'Normal_Weight':0, 'Overweight_Level_I':1, 'Overweight_Level_II':2,\n",
    "                    'Obesity_Type_I':3, 'Insufficient_Weight':4, 'Obesity_Type_II':5,'Obesity_Type_III':6 }           \n",
    "})\n",
    "\n",
    "data_encoded"
   ]
  },
  {
   "cell_type": "code",
   "execution_count": 10,
   "id": "e9ae4186",
   "metadata": {},
   "outputs": [
    {
     "data": {
      "text/plain": [
       "{0: 'Female', 1: 'Male'}"
      ]
     },
     "execution_count": 10,
     "metadata": {},
     "output_type": "execute_result"
    }
   ],
   "source": [
    "from sklearn.preprocessing import LabelEncoder\n",
    "gle = LabelEncoder()\n",
    "gender_labels = gle.fit_transform(data['Gender'])\n",
    "gender_mappings = {index: label for index, label in \n",
    "                  enumerate(gle.classes_)}\n",
    "gender_mappings"
   ]
  },
  {
   "cell_type": "code",
   "execution_count": 11,
   "id": "69de53ce",
   "metadata": {},
   "outputs": [
    {
     "data": {
      "text/plain": [
       "{0: 'no', 1: 'yes'}"
      ]
     },
     "execution_count": 11,
     "metadata": {},
     "output_type": "execute_result"
    }
   ],
   "source": [
    "gle = LabelEncoder()\n",
    "family_labels = gle.fit_transform(data['family_history_with_overweight'])\n",
    "family_mappings = {index: label for index, label in \n",
    "                  enumerate(gle.classes_)}\n",
    "family_mappings"
   ]
  },
  {
   "cell_type": "code",
   "execution_count": 12,
   "id": "7ee53c3b",
   "metadata": {},
   "outputs": [
    {
     "data": {
      "text/plain": [
       "{0: 'no', 1: 'yes'}"
      ]
     },
     "execution_count": 12,
     "metadata": {},
     "output_type": "execute_result"
    }
   ],
   "source": [
    "gle = LabelEncoder()\n",
    "FAVC_labels = gle.fit_transform(data['FAVC'])\n",
    "FAVC_mappings = {index: label for index, label in \n",
    "                  enumerate(gle.classes_)}\n",
    "FAVC_mappings"
   ]
  },
  {
   "cell_type": "code",
   "execution_count": 13,
   "id": "815165cf",
   "metadata": {},
   "outputs": [
    {
     "data": {
      "text/plain": [
       "{0: 'Always', 1: 'Frequently', 2: 'Sometimes', 3: 'no'}"
      ]
     },
     "execution_count": 13,
     "metadata": {},
     "output_type": "execute_result"
    }
   ],
   "source": [
    "gle = LabelEncoder()\n",
    "CAEC_labels = gle.fit_transform(data['CAEC'])\n",
    "CAEC_mappings = {index: label for index, label in \n",
    "                  enumerate(gle.classes_)}\n",
    "CAEC_mappings"
   ]
  },
  {
   "cell_type": "code",
   "execution_count": 14,
   "id": "375d429a",
   "metadata": {},
   "outputs": [
    {
     "data": {
      "text/plain": [
       "{0: 'no', 1: 'yes'}"
      ]
     },
     "execution_count": 14,
     "metadata": {},
     "output_type": "execute_result"
    }
   ],
   "source": [
    "gle = LabelEncoder()\n",
    "SMOKE_labels = gle.fit_transform(data['SMOKE'])\n",
    "SMOKE_mappings = {index: label for index, label in \n",
    "                  enumerate(gle.classes_)}\n",
    "SMOKE_mappings"
   ]
  },
  {
   "cell_type": "code",
   "execution_count": 15,
   "id": "9e3eaef5",
   "metadata": {},
   "outputs": [
    {
     "data": {
      "text/plain": [
       "{0: 'no', 1: 'yes'}"
      ]
     },
     "execution_count": 15,
     "metadata": {},
     "output_type": "execute_result"
    }
   ],
   "source": [
    "gle = LabelEncoder()\n",
    "SCC_labels = gle.fit_transform(data['SCC'])\n",
    "SCC_mappings = {index: label for index, label in \n",
    "                  enumerate(gle.classes_)}\n",
    "SCC_mappings"
   ]
  },
  {
   "cell_type": "code",
   "execution_count": 16,
   "id": "193645b0",
   "metadata": {},
   "outputs": [
    {
     "data": {
      "text/plain": [
       "{0: 'Always', 1: 'Frequently', 2: 'Sometimes', 3: 'no'}"
      ]
     },
     "execution_count": 16,
     "metadata": {},
     "output_type": "execute_result"
    }
   ],
   "source": [
    "gle = LabelEncoder()\n",
    "CALC_labels = gle.fit_transform(data['CALC'])\n",
    "CALC_mappings = {index: label for index, label in \n",
    "                  enumerate(gle.classes_)}\n",
    "CALC_mappings"
   ]
  },
  {
   "cell_type": "code",
   "execution_count": 17,
   "id": "4fe08c48",
   "metadata": {},
   "outputs": [
    {
     "data": {
      "text/plain": [
       "{0: 'Automobile',\n",
       " 1: 'Bike',\n",
       " 2: 'Motorbike',\n",
       " 3: 'Public_Transportation',\n",
       " 4: 'Walking'}"
      ]
     },
     "execution_count": 17,
     "metadata": {},
     "output_type": "execute_result"
    }
   ],
   "source": [
    "gle = LabelEncoder()\n",
    "MTRANS_labels = gle.fit_transform(data['MTRANS'])\n",
    "MTRANS_mappings = {index: label for index, label in \n",
    "                  enumerate(gle.classes_)}\n",
    "MTRANS_mappings"
   ]
  },
  {
   "cell_type": "code",
   "execution_count": 18,
   "id": "c77558b9",
   "metadata": {},
   "outputs": [
    {
     "data": {
      "text/plain": [
       "{0: 'Insufficient_Weight',\n",
       " 1: 'Normal_Weight',\n",
       " 2: 'Obesity_Type_I',\n",
       " 3: 'Obesity_Type_II',\n",
       " 4: 'Obesity_Type_III',\n",
       " 5: 'Overweight_Level_I',\n",
       " 6: 'Overweight_Level_II'}"
      ]
     },
     "execution_count": 18,
     "metadata": {},
     "output_type": "execute_result"
    }
   ],
   "source": [
    "gle = LabelEncoder()\n",
    "NObeyesdad_labels = gle.fit_transform(data['NObeyesdad'])\n",
    "NObeyesdad_mappings = {index: label for index, label in \n",
    "                  enumerate(gle.classes_)}\n",
    "NObeyesdad_mappings"
   ]
  },
  {
   "cell_type": "code",
   "execution_count": 19,
   "id": "ddfa3497",
   "metadata": {},
   "outputs": [],
   "source": [
    "#then caterical data is encoded successfully \n",
    "#preprocessing is done"
   ]
  },
  {
   "cell_type": "markdown",
   "id": "028ac4dd",
   "metadata": {},
   "source": [
    "# Splitting dataset into input and output"
   ]
  },
  {
   "cell_type": "code",
   "execution_count": 20,
   "id": "90a195b4",
   "metadata": {},
   "outputs": [],
   "source": [
    "X = data_encoded.drop(columns=['NObeyesdad'])\n",
    "y = data_encoded['NObeyesdad']"
   ]
  },
  {
   "cell_type": "markdown",
   "id": "17c527c8",
   "metadata": {},
   "source": [
    "# Splitting dataset into train, validation, and test"
   ]
  },
  {
   "cell_type": "code",
   "execution_count": 21,
   "id": "9cb01118",
   "metadata": {},
   "outputs": [
    {
     "name": "stdout",
     "output_type": "stream",
     "text": [
      "X_train: (1350, 16)\n",
      "y_train: (1350,)\n",
      "------------------------\n",
      "X_val: (338, 16)\n",
      "y_val: (338,)\n",
      "------------------------\n",
      "X_test: (423, 16)\n",
      "y_test: (423,)\n"
     ]
    }
   ],
   "source": [
    "from sklearn.model_selection import train_test_split\n",
    "\n",
    "X, X_test, y, y_test = train_test_split(X , y , test_size=0.20, random_state=0)\n",
    "\n",
    "X_train, X_val, y_train, y_val = train_test_split(X, y, test_size=0.20, random_state=0)\n",
    "\n",
    "print('X_train:', X_train.shape)\n",
    "print('y_train:', y_train.shape)\n",
    "print('------------------------')\n",
    "print('X_val:', X_val.shape)\n",
    "print('y_val:', y_val.shape)\n",
    "print('------------------------')\n",
    "print('X_test:', X_test.shape)\n",
    "print('y_test:', y_test.shape)"
   ]
  },
  {
   "cell_type": "code",
   "execution_count": 22,
   "id": "2893247f",
   "metadata": {},
   "outputs": [
    {
     "data": {
      "text/plain": [
       "3    224\n",
       "6    211\n",
       "0    194\n",
       "5    190\n",
       "2    184\n",
       "1    181\n",
       "4    166\n",
       "Name: NObeyesdad, dtype: int64"
      ]
     },
     "execution_count": 22,
     "metadata": {},
     "output_type": "execute_result"
    }
   ],
   "source": [
    "y_train.value_counts()"
   ]
  },
  {
   "cell_type": "code",
   "execution_count": 23,
   "id": "a7840ffb",
   "metadata": {},
   "outputs": [
    {
     "data": {
      "text/plain": [
       "0    166\n",
       "1    166\n",
       "2    166\n",
       "3    166\n",
       "4    166\n",
       "5    166\n",
       "6    166\n",
       "Name: NObeyesdad, dtype: int64"
      ]
     },
     "execution_count": 23,
     "metadata": {},
     "output_type": "execute_result"
    }
   ],
   "source": [
    "#Data balancing\n",
    "from imblearn.under_sampling import RandomUnderSampler\n",
    "\n",
    "rus = RandomUnderSampler(random_state=0)\n",
    "X_train_rus, y_train_rus = rus.fit_resample(X_train, y_train)\n",
    "y_train_rus.value_counts()\n"
   ]
  },
  {
   "cell_type": "code",
   "execution_count": 24,
   "id": "37612c24",
   "metadata": {},
   "outputs": [
    {
     "data": {
      "text/plain": [
       "3    224\n",
       "0    224\n",
       "4    224\n",
       "6    224\n",
       "2    224\n",
       "5    224\n",
       "1    224\n",
       "Name: NObeyesdad, dtype: int64"
      ]
     },
     "execution_count": 24,
     "metadata": {},
     "output_type": "execute_result"
    }
   ],
   "source": [
    "from imblearn.over_sampling import RandomOverSampler\n",
    "ros = RandomOverSampler(random_state=0)\n",
    "X_train_balanced, y_train_balanced = ros.fit_resample(X_train, y_train)\n",
    "y_train_balanced.value_counts()"
   ]
  },
  {
   "cell_type": "markdown",
   "id": "1ce99720",
   "metadata": {},
   "source": [
    "# Random Forest Algorithm = ensamble learning"
   ]
  },
  {
   "cell_type": "code",
   "execution_count": 25,
   "id": "a43705fc",
   "metadata": {},
   "outputs": [],
   "source": [
    "from sklearn.metrics import accuracy_score\n",
    "\n",
    "def eval_model(model, X_train_balanced, y_train_balanced, X_val, y_val):\n",
    "    model.fit(X_train_balanced, y_train_balanced)\n",
    "    y_pred_train = model.predict(X_train_balanced)\n",
    "    y_pred_val = model.predict(X_val)\n",
    "    acc_train = accuracy_score(y_train_balanced, y_pred_train)\n",
    "    acc_val = accuracy_score(y_val, y_pred_val)\n",
    "    return acc_train, acc_val"
   ]
  },
  {
   "cell_type": "code",
   "execution_count": 26,
   "id": "ee13c57f",
   "metadata": {},
   "outputs": [
    {
     "data": {
      "text/plain": [
       "(0.7589285714285714, 0.7130177514792899)"
      ]
     },
     "execution_count": 26,
     "metadata": {},
     "output_type": "execute_result"
    }
   ],
   "source": [
    "# Random Forest (RF)\n",
    "from sklearn.ensemble import RandomForestClassifier\n",
    "rf = RandomForestClassifier(n_estimators=100, max_depth=3, random_state=0) #take object #n_estimators=num of DT\n",
    "eval_model(rf, X_train_balanced, y_train_balanced, X_val, y_val)"
   ]
  },
  {
   "cell_type": "code",
   "execution_count": 27,
   "id": "de82368b",
   "metadata": {},
   "outputs": [
    {
     "data": {
      "text/html": [
       "<div>\n",
       "<style scoped>\n",
       "    .dataframe tbody tr th:only-of-type {\n",
       "        vertical-align: middle;\n",
       "    }\n",
       "\n",
       "    .dataframe tbody tr th {\n",
       "        vertical-align: top;\n",
       "    }\n",
       "\n",
       "    .dataframe thead th {\n",
       "        text-align: right;\n",
       "    }\n",
       "</style>\n",
       "<table border=\"1\" class=\"dataframe\">\n",
       "  <thead>\n",
       "    <tr style=\"text-align: right;\">\n",
       "      <th></th>\n",
       "      <th>n_estimators</th>\n",
       "      <th>acc_train</th>\n",
       "      <th>acc_val</th>\n",
       "    </tr>\n",
       "  </thead>\n",
       "  <tbody>\n",
       "    <tr>\n",
       "      <th>0</th>\n",
       "      <td>100</td>\n",
       "      <td>0.758929</td>\n",
       "      <td>0.713018</td>\n",
       "    </tr>\n",
       "    <tr>\n",
       "      <th>1</th>\n",
       "      <td>200</td>\n",
       "      <td>0.755102</td>\n",
       "      <td>0.707101</td>\n",
       "    </tr>\n",
       "    <tr>\n",
       "      <th>2</th>\n",
       "      <td>300</td>\n",
       "      <td>0.750638</td>\n",
       "      <td>0.695266</td>\n",
       "    </tr>\n",
       "    <tr>\n",
       "      <th>3</th>\n",
       "      <td>400</td>\n",
       "      <td>0.746811</td>\n",
       "      <td>0.689349</td>\n",
       "    </tr>\n",
       "    <tr>\n",
       "      <th>4</th>\n",
       "      <td>500</td>\n",
       "      <td>0.741071</td>\n",
       "      <td>0.692308</td>\n",
       "    </tr>\n",
       "  </tbody>\n",
       "</table>\n",
       "</div>"
      ],
      "text/plain": [
       "   n_estimators  acc_train   acc_val\n",
       "0           100   0.758929  0.713018\n",
       "1           200   0.755102  0.707101\n",
       "2           300   0.750638  0.695266\n",
       "3           400   0.746811  0.689349\n",
       "4           500   0.741071  0.692308"
      ]
     },
     "execution_count": 27,
     "metadata": {},
     "output_type": "execute_result"
    }
   ],
   "source": [
    "#optimize n_estimators\n",
    "import numpy as np\n",
    "\n",
    "n_estimators_values = [100, 200, 300, 400, 500]\n",
    "acc_train_values = []\n",
    "acc_val_values = []\n",
    "\n",
    "for n_estimators in n_estimators_values:\n",
    "    model = RandomForestClassifier(n_estimators=n_estimators, max_depth=3, random_state=0)\n",
    "    acc_train, acc_val = eval_model(model, X_train_balanced, y_train_balanced, X_val, y_val)\n",
    "    acc_train_values.append(acc_train)\n",
    "    acc_val_values.append(acc_val)\n",
    "    \n",
    "results = pd.DataFrame({\n",
    "    'n_estimators': n_estimators_values,\n",
    "    'acc_train': acc_train_values,\n",
    "    'acc_val': acc_val_values,\n",
    "})\n",
    "\n",
    "results"
   ]
  },
  {
   "cell_type": "code",
   "execution_count": 28,
   "id": "86fde996",
   "metadata": {},
   "outputs": [
    {
     "data": {
      "image/png": "[encoded data removed]",
      "text/plain": [
       "<Figure size 576x432 with 1 Axes>"
      ]
     },
     "metadata": {
      "needs_background": "light"
     },
     "output_type": "display_data"
    }
   ],
   "source": [
    "results.plot(x='n_estimators', y=['acc_train', 'acc_val'], figsize=(8, 6))\n",
    "plt.grid(axis='both')\n",
    "plt.xticks(n_estimators_values)\n",
    "plt.show()"
   ]
  },
  {
   "cell_type": "code",
   "execution_count": 29,
   "id": "416c4125",
   "metadata": {},
   "outputs": [
    {
     "data": {
      "text/html": [
       "<div>\n",
       "<style scoped>\n",
       "    .dataframe tbody tr th:only-of-type {\n",
       "        vertical-align: middle;\n",
       "    }\n",
       "\n",
       "    .dataframe tbody tr th {\n",
       "        vertical-align: top;\n",
       "    }\n",
       "\n",
       "    .dataframe thead th {\n",
       "        text-align: right;\n",
       "    }\n",
       "</style>\n",
       "<table border=\"1\" class=\"dataframe\">\n",
       "  <thead>\n",
       "    <tr style=\"text-align: right;\">\n",
       "      <th></th>\n",
       "      <th>max_depth</th>\n",
       "      <th>acc_train</th>\n",
       "      <th>acc_val</th>\n",
       "    </tr>\n",
       "  </thead>\n",
       "  <tbody>\n",
       "    <tr>\n",
       "      <th>0</th>\n",
       "      <td>1</td>\n",
       "      <td>0.473333</td>\n",
       "      <td>0.449704</td>\n",
       "    </tr>\n",
       "    <tr>\n",
       "      <th>1</th>\n",
       "      <td>2</td>\n",
       "      <td>0.626667</td>\n",
       "      <td>0.612426</td>\n",
       "    </tr>\n",
       "    <tr>\n",
       "      <th>2</th>\n",
       "      <td>3</td>\n",
       "      <td>0.765185</td>\n",
       "      <td>0.707101</td>\n",
       "    </tr>\n",
       "    <tr>\n",
       "      <th>3</th>\n",
       "      <td>4</td>\n",
       "      <td>0.874074</td>\n",
       "      <td>0.819527</td>\n",
       "    </tr>\n",
       "    <tr>\n",
       "      <th>4</th>\n",
       "      <td>5</td>\n",
       "      <td>0.920741</td>\n",
       "      <td>0.875740</td>\n",
       "    </tr>\n",
       "    <tr>\n",
       "      <th>5</th>\n",
       "      <td>6</td>\n",
       "      <td>0.957778</td>\n",
       "      <td>0.905325</td>\n",
       "    </tr>\n",
       "    <tr>\n",
       "      <th>6</th>\n",
       "      <td>7</td>\n",
       "      <td>0.981481</td>\n",
       "      <td>0.926036</td>\n",
       "    </tr>\n",
       "    <tr>\n",
       "      <th>7</th>\n",
       "      <td>8</td>\n",
       "      <td>0.994074</td>\n",
       "      <td>0.946746</td>\n",
       "    </tr>\n",
       "    <tr>\n",
       "      <th>8</th>\n",
       "      <td>9</td>\n",
       "      <td>1.000000</td>\n",
       "      <td>0.946746</td>\n",
       "    </tr>\n",
       "  </tbody>\n",
       "</table>\n",
       "</div>"
      ],
      "text/plain": [
       "   max_depth  acc_train   acc_val\n",
       "0          1   0.473333  0.449704\n",
       "1          2   0.626667  0.612426\n",
       "2          3   0.765185  0.707101\n",
       "3          4   0.874074  0.819527\n",
       "4          5   0.920741  0.875740\n",
       "5          6   0.957778  0.905325\n",
       "6          7   0.981481  0.926036\n",
       "7          8   0.994074  0.946746\n",
       "8          9   1.000000  0.946746"
      ]
     },
     "execution_count": 29,
     "metadata": {},
     "output_type": "execute_result"
    }
   ],
   "source": [
    "#optimize max_depth   #n_estimators=500\n",
    "max_depth_values = [1, 2, 3, 4, 5, 6, 7, 8, 9]\n",
    "acc_train_values = []\n",
    "acc_val_values = []\n",
    "\n",
    "for max_depth in max_depth_values:\n",
    "    model = RandomForestClassifier(n_estimators=500, max_depth=max_depth, random_state=0)\n",
    "    acc_train, acc_val = eval_model(model, X_train, y_train, X_val, y_val)\n",
    "    acc_train_values.append(acc_train)\n",
    "    acc_val_values.append(acc_val)\n",
    "    \n",
    "results = pd.DataFrame({\n",
    "    'max_depth': max_depth_values,\n",
    "    'acc_train': acc_train_values,\n",
    "    'acc_val': acc_val_values,\n",
    "})\n",
    "\n",
    "results"
   ]
  },
  {
   "cell_type": "code",
   "execution_count": 30,
   "id": "1b3b15d1",
   "metadata": {},
   "outputs": [
    {
     "data": {
      "image/png": "[encoded data removed]",
      "text/plain": [
       "<Figure size 576x432 with 1 Axes>"
      ]
     },
     "metadata": {
      "needs_background": "light"
     },
     "output_type": "display_data"
    }
   ],
   "source": [
    "results.plot(x='max_depth', y=['acc_train', 'acc_val'], figsize=(8, 6))\n",
    "plt.grid(axis='both')\n",
    "plt.xticks(max_depth_values)\n",
    "plt.show()"
   ]
  },
  {
   "cell_type": "code",
   "execution_count": 31,
   "id": "321d08a2",
   "metadata": {},
   "outputs": [
    {
     "data": {
      "text/plain": [
       "(0.8647959183673469, 0.817966903073286)"
      ]
     },
     "execution_count": 31,
     "metadata": {},
     "output_type": "execute_result"
    }
   ],
   "source": [
    "best_model = RandomForestClassifier(n_estimators=500, max_depth=4, random_state=0)\n",
    "eval_model(best_model, X_train_balanced, y_train_balanced, X_test, y_test)"
   ]
  },
  {
   "cell_type": "markdown",
   "id": "2ccc268b",
   "metadata": {},
   "source": [
    "# Grid Search CV\n"
   ]
  },
  {
   "cell_type": "code",
   "execution_count": 32,
   "id": "0fee456a",
   "metadata": {},
   "outputs": [],
   "source": [
    "#Grid Search CV\n",
    "search_space = {\n",
    "    \"n_estimators\" : [100, 200, 300, 400, 500],\n",
    "    \"max_depth\" : [1, 2, 3, 4, 5, 6, 7, 8, 9]\n",
    "}\n",
    "from xgboost import XGBRegressor\n",
    "xgb_model = XGBRegressor(random_state = 0)\n",
    "from sklearn.model_selection import GridSearchCV\n",
    "GS = GridSearchCV(estimator = xgb_model,      \n",
    "                  param_grid = search_space,\n",
    "                  scoring = [\"r2\", \"neg_root_mean_squared_error\"],\n",
    "                  refit = \"r2\",\n",
    "                  cv = 5,\n",
    "                  verbose = 4)"
   ]
  },
  {
   "cell_type": "code",
   "execution_count": 33,
   "id": "5f758374",
   "metadata": {},
   "outputs": [
    {
     "name": "stdout",
     "output_type": "stream",
     "text": [
      "Fitting 5 folds for each of 45 candidates, totalling 225 fits\n",
      "[CV 1/5] END max_depth=1, n_estimators=100; neg_root_mean_squared_error: (test=-0.881) r2: (test=0.799) total time=   0.0s\n",
      "[CV 2/5] END max_depth=1, n_estimators=100; neg_root_mean_squared_error: (test=-0.929) r2: (test=0.784) total time=   0.0s\n",
      "[CV 3/5] END max_depth=1, n_estimators=100; neg_root_mean_squared_error: (test=-0.916) r2: (test=0.802) total time=   0.0s\n",
      "[CV 4/5] END max_depth=1, n_estimators=100; neg_root_mean_squared_error: (test=-0.955) r2: (test=0.779) total time=   0.0s\n",
      "[CV 5/5] END max_depth=1, n_estimators=100; neg_root_mean_squared_error: (test=-0.887) r2: (test=0.786) total time=   0.0s\n",
      "[CV 1/5] END max_depth=1, n_estimators=200; neg_root_mean_squared_error: (test=-0.850) r2: (test=0.813) total time=   0.0s\n",
      "[CV 2/5] END max_depth=1, n_estimators=200; neg_root_mean_squared_error: (test=-0.912) r2: (test=0.792) total time=   0.0s\n",
      "[CV 3/5] END max_depth=1, n_estimators=200; neg_root_mean_squared_error: (test=-0.880) r2: (test=0.818) total time=   0.0s\n",
      "[CV 4/5] END max_depth=1, n_estimators=200; neg_root_mean_squared_error: (test=-0.918) r2: (test=0.796) total time=   0.0s\n",
      "[CV 5/5] END max_depth=1, n_estimators=200; neg_root_mean_squared_error: (test=-0.848) r2: (test=0.804) total time=   0.0s\n",
      "[CV 1/5] END max_depth=1, n_estimators=300; neg_root_mean_squared_error: (test=-0.828) r2: (test=0.822) total time=   0.1s\n",
      "[CV 2/5] END max_depth=1, n_estimators=300; neg_root_mean_squared_error: (test=-0.899) r2: (test=0.798) total time=   0.1s\n",
      "[CV 3/5] END max_depth=1, n_estimators=300; neg_root_mean_squared_error: (test=-0.870) r2: (test=0.822) total time=   0.1s\n",
      "[CV 4/5] END max_depth=1, n_estimators=300; neg_root_mean_squared_error: (test=-0.909) r2: (test=0.800) total time=   0.1s\n",
      "[CV 5/5] END max_depth=1, n_estimators=300; neg_root_mean_squared_error: (test=-0.826) r2: (test=0.814) total time=   0.1s\n",
      "[CV 1/5] END max_depth=1, n_estimators=400; neg_root_mean_squared_error: (test=-0.811) r2: (test=0.830) total time=   0.2s\n",
      "[CV 2/5] END max_depth=1, n_estimators=400; neg_root_mean_squared_error: (test=-0.892) r2: (test=0.801) total time=   0.2s\n",
      "[CV 3/5] END max_depth=1, n_estimators=400; neg_root_mean_squared_error: (test=-0.865) r2: (test=0.824) total time=   0.2s\n",
      "[CV 4/5] END max_depth=1, n_estimators=400; neg_root_mean_squared_error: (test=-0.898) r2: (test=0.804) total time=   0.2s\n",
      "[CV 5/5] END max_depth=1, n_estimators=400; neg_root_mean_squared_error: (test=-0.816) r2: (test=0.819) total time=   0.2s\n",
      "[CV 1/5] END max_depth=1, n_estimators=500; neg_root_mean_squared_error: (test=-0.802) r2: (test=0.833) total time=   0.2s\n",
      "[CV 2/5] END max_depth=1, n_estimators=500; neg_root_mean_squared_error: (test=-0.895) r2: (test=0.800) total time=   0.2s\n",
      "[CV 3/5] END max_depth=1, n_estimators=500; neg_root_mean_squared_error: (test=-0.864) r2: (test=0.824) total time=   0.2s\n",
      "[CV 4/5] END max_depth=1, n_estimators=500; neg_root_mean_squared_error: (test=-0.889) r2: (test=0.808) total time=   0.2s\n",
      "[CV 5/5] END max_depth=1, n_estimators=500; neg_root_mean_squared_error: (test=-0.808) r2: (test=0.822) total time=   0.2s\n",
      "[CV 1/5] END max_depth=2, n_estimators=100; neg_root_mean_squared_error: (test=-0.513) r2: (test=0.932) total time=   0.0s\n",
      "[CV 2/5] END max_depth=2, n_estimators=100; neg_root_mean_squared_error: (test=-0.596) r2: (test=0.911) total time=   0.0s\n",
      "[CV 3/5] END max_depth=2, n_estimators=100; neg_root_mean_squared_error: (test=-0.648) r2: (test=0.901) total time=   0.0s\n",
      "[CV 4/5] END max_depth=2, n_estimators=100; neg_root_mean_squared_error: (test=-0.623) r2: (test=0.906) total time=   0.0s\n",
      "[CV 5/5] END max_depth=2, n_estimators=100; neg_root_mean_squared_error: (test=-0.454) r2: (test=0.944) total time=   0.0s\n",
      "[CV 1/5] END max_depth=2, n_estimators=200; neg_root_mean_squared_error: (test=-0.449) r2: (test=0.948) total time=   0.1s\n",
      "[CV 2/5] END max_depth=2, n_estimators=200; neg_root_mean_squared_error: (test=-0.528) r2: (test=0.930) total time=   0.1s\n",
      "[CV 3/5] END max_depth=2, n_estimators=200; neg_root_mean_squared_error: (test=-0.596) r2: (test=0.916) total time=   0.1s\n",
      "[CV 4/5] END max_depth=2, n_estimators=200; neg_root_mean_squared_error: (test=-0.568) r2: (test=0.922) total time=   0.1s\n",
      "[CV 5/5] END max_depth=2, n_estimators=200; neg_root_mean_squared_error: (test=-0.367) r2: (test=0.963) total time=   0.1s\n",
      "[CV 1/5] END max_depth=2, n_estimators=300; neg_root_mean_squared_error: (test=-0.431) r2: (test=0.952) total time=   0.2s\n",
      "[CV 2/5] END max_depth=2, n_estimators=300; neg_root_mean_squared_error: (test=-0.501) r2: (test=0.937) total time=   0.2s\n",
      "[CV 3/5] END max_depth=2, n_estimators=300; neg_root_mean_squared_error: (test=-0.566) r2: (test=0.924) total time=   0.2s\n",
      "[CV 4/5] END max_depth=2, n_estimators=300; neg_root_mean_squared_error: (test=-0.552) r2: (test=0.926) total time=   0.2s\n",
      "[CV 5/5] END max_depth=2, n_estimators=300; neg_root_mean_squared_error: (test=-0.320) r2: (test=0.972) total time=   0.2s\n",
      "[CV 1/5] END max_depth=2, n_estimators=400; neg_root_mean_squared_error: (test=-0.417) r2: (test=0.955) total time=   0.3s\n",
      "[CV 2/5] END max_depth=2, n_estimators=400; neg_root_mean_squared_error: (test=-0.483) r2: (test=0.942) total time=   0.2s\n",
      "[CV 3/5] END max_depth=2, n_estimators=400; neg_root_mean_squared_error: (test=-0.547) r2: (test=0.929) total time=   0.3s\n",
      "[CV 4/5] END max_depth=2, n_estimators=400; neg_root_mean_squared_error: (test=-0.535) r2: (test=0.931) total time=   0.3s\n",
      "[CV 5/5] END max_depth=2, n_estimators=400; neg_root_mean_squared_error: (test=-0.297) r2: (test=0.976) total time=   0.3s\n",
      "[CV 1/5] END max_depth=2, n_estimators=500; neg_root_mean_squared_error: (test=-0.410) r2: (test=0.956) total time=   0.4s\n",
      "[CV 2/5] END max_depth=2, n_estimators=500; neg_root_mean_squared_error: (test=-0.478) r2: (test=0.943) total time=   0.3s\n",
      "[CV 3/5] END max_depth=2, n_estimators=500; neg_root_mean_squared_error: (test=-0.539) r2: (test=0.932) total time=   0.3s\n",
      "[CV 4/5] END max_depth=2, n_estimators=500; neg_root_mean_squared_error: (test=-0.525) r2: (test=0.933) total time=   0.3s\n",
      "[CV 5/5] END max_depth=2, n_estimators=500; neg_root_mean_squared_error: (test=-0.283) r2: (test=0.978) total time=   0.4s\n",
      "[CV 1/5] END max_depth=3, n_estimators=100; neg_root_mean_squared_error: (test=-0.455) r2: (test=0.946) total time=   0.0s\n",
      "[CV 2/5] END max_depth=3, n_estimators=100; neg_root_mean_squared_error: (test=-0.449) r2: (test=0.950) total time=   0.0s\n",
      "[CV 3/5] END max_depth=3, n_estimators=100; neg_root_mean_squared_error: (test=-0.495) r2: (test=0.942) total time=   0.0s\n",
      "[CV 4/5] END max_depth=3, n_estimators=100; neg_root_mean_squared_error: (test=-0.489) r2: (test=0.942) total time=   0.0s\n",
      "[CV 5/5] END max_depth=3, n_estimators=100; neg_root_mean_squared_error: (test=-0.266) r2: (test=0.981) total time=   0.0s\n",
      "[CV 1/5] END max_depth=3, n_estimators=200; neg_root_mean_squared_error: (test=-0.428) r2: (test=0.952) total time=   0.2s\n",
      "[CV 2/5] END max_depth=3, n_estimators=200; neg_root_mean_squared_error: (test=-0.423) r2: (test=0.955) total time=   0.2s\n",
      "[CV 3/5] END max_depth=3, n_estimators=200; neg_root_mean_squared_error: (test=-0.480) r2: (test=0.946) total time=   0.2s\n",
      "[CV 4/5] END max_depth=3, n_estimators=200; neg_root_mean_squared_error: (test=-0.474) r2: (test=0.946) total time=   0.1s\n",
      "[CV 5/5] END max_depth=3, n_estimators=200; neg_root_mean_squared_error: (test=-0.226) r2: (test=0.986) total time=   0.2s\n",
      "[CV 1/5] END max_depth=3, n_estimators=300; neg_root_mean_squared_error: (test=-0.422) r2: (test=0.954) total time=   0.3s\n",
      "[CV 2/5] END max_depth=3, n_estimators=300; neg_root_mean_squared_error: (test=-0.419) r2: (test=0.956) total time=   0.2s\n",
      "[CV 3/5] END max_depth=3, n_estimators=300; neg_root_mean_squared_error: (test=-0.466) r2: (test=0.949) total time=   0.3s\n",
      "[CV 4/5] END max_depth=3, n_estimators=300; neg_root_mean_squared_error: (test=-0.465) r2: (test=0.948) total time=   0.3s\n",
      "[CV 5/5] END max_depth=3, n_estimators=300; neg_root_mean_squared_error: (test=-0.207) r2: (test=0.988) total time=   0.2s\n",
      "[CV 1/5] END max_depth=3, n_estimators=400; neg_root_mean_squared_error: (test=-0.418) r2: (test=0.955) total time=   0.3s\n",
      "[CV 2/5] END max_depth=3, n_estimators=400; neg_root_mean_squared_error: (test=-0.418) r2: (test=0.956) total time=   0.3s\n"
     ]
    },
    {
     "name": "stdout",
     "output_type": "stream",
     "text": [
      "[CV 3/5] END max_depth=3, n_estimators=400; neg_root_mean_squared_error: (test=-0.459) r2: (test=0.950) total time=   0.3s\n",
      "[CV 4/5] END max_depth=3, n_estimators=400; neg_root_mean_squared_error: (test=-0.459) r2: (test=0.949) total time=   0.3s\n",
      "[CV 5/5] END max_depth=3, n_estimators=400; neg_root_mean_squared_error: (test=-0.199) r2: (test=0.989) total time=   0.3s\n",
      "[CV 1/5] END max_depth=3, n_estimators=500; neg_root_mean_squared_error: (test=-0.418) r2: (test=0.955) total time=   0.4s\n",
      "[CV 2/5] END max_depth=3, n_estimators=500; neg_root_mean_squared_error: (test=-0.418) r2: (test=0.956) total time=   0.4s\n",
      "[CV 3/5] END max_depth=3, n_estimators=500; neg_root_mean_squared_error: (test=-0.456) r2: (test=0.951) total time=   0.5s\n",
      "[CV 4/5] END max_depth=3, n_estimators=500; neg_root_mean_squared_error: (test=-0.457) r2: (test=0.949) total time=   0.5s\n",
      "[CV 5/5] END max_depth=3, n_estimators=500; neg_root_mean_squared_error: (test=-0.194) r2: (test=0.990) total time=   0.4s\n",
      "[CV 1/5] END max_depth=4, n_estimators=100; neg_root_mean_squared_error: (test=-0.352) r2: (test=0.968) total time=   0.0s\n",
      "[CV 2/5] END max_depth=4, n_estimators=100; neg_root_mean_squared_error: (test=-0.398) r2: (test=0.960) total time=   0.0s\n",
      "[CV 3/5] END max_depth=4, n_estimators=100; neg_root_mean_squared_error: (test=-0.416) r2: (test=0.959) total time=   0.0s\n",
      "[CV 4/5] END max_depth=4, n_estimators=100; neg_root_mean_squared_error: (test=-0.456) r2: (test=0.950) total time=   0.0s\n",
      "[CV 5/5] END max_depth=4, n_estimators=100; neg_root_mean_squared_error: (test=-0.236) r2: (test=0.985) total time=   0.0s\n",
      "[CV 1/5] END max_depth=4, n_estimators=200; neg_root_mean_squared_error: (test=-0.338) r2: (test=0.970) total time=   0.2s\n",
      "[CV 2/5] END max_depth=4, n_estimators=200; neg_root_mean_squared_error: (test=-0.395) r2: (test=0.961) total time=   0.2s\n",
      "[CV 3/5] END max_depth=4, n_estimators=200; neg_root_mean_squared_error: (test=-0.406) r2: (test=0.961) total time=   0.2s\n",
      "[CV 4/5] END max_depth=4, n_estimators=200; neg_root_mean_squared_error: (test=-0.446) r2: (test=0.952) total time=   0.2s\n",
      "[CV 5/5] END max_depth=4, n_estimators=200; neg_root_mean_squared_error: (test=-0.218) r2: (test=0.987) total time=   0.2s\n",
      "[CV 1/5] END max_depth=4, n_estimators=300; neg_root_mean_squared_error: (test=-0.336) r2: (test=0.971) total time=   0.3s\n",
      "[CV 2/5] END max_depth=4, n_estimators=300; neg_root_mean_squared_error: (test=-0.395) r2: (test=0.961) total time=   0.3s\n",
      "[CV 3/5] END max_depth=4, n_estimators=300; neg_root_mean_squared_error: (test=-0.406) r2: (test=0.961) total time=   0.3s\n",
      "[CV 4/5] END max_depth=4, n_estimators=300; neg_root_mean_squared_error: (test=-0.443) r2: (test=0.952) total time=   0.3s\n",
      "[CV 5/5] END max_depth=4, n_estimators=300; neg_root_mean_squared_error: (test=-0.218) r2: (test=0.987) total time=   0.3s\n",
      "[CV 1/5] END max_depth=4, n_estimators=400; neg_root_mean_squared_error: (test=-0.336) r2: (test=0.971) total time=   0.5s\n",
      "[CV 2/5] END max_depth=4, n_estimators=400; neg_root_mean_squared_error: (test=-0.395) r2: (test=0.961) total time=   0.5s\n",
      "[CV 3/5] END max_depth=4, n_estimators=400; neg_root_mean_squared_error: (test=-0.406) r2: (test=0.961) total time=   0.5s\n",
      "[CV 4/5] END max_depth=4, n_estimators=400; neg_root_mean_squared_error: (test=-0.443) r2: (test=0.953) total time=   0.4s\n",
      "[CV 5/5] END max_depth=4, n_estimators=400; neg_root_mean_squared_error: (test=-0.217) r2: (test=0.987) total time=   0.4s\n",
      "[CV 1/5] END max_depth=4, n_estimators=500; neg_root_mean_squared_error: (test=-0.337) r2: (test=0.971) total time=   0.5s\n",
      "[CV 2/5] END max_depth=4, n_estimators=500; neg_root_mean_squared_error: (test=-0.394) r2: (test=0.961) total time=   0.5s\n",
      "[CV 3/5] END max_depth=4, n_estimators=500; neg_root_mean_squared_error: (test=-0.406) r2: (test=0.961) total time=   0.6s\n",
      "[CV 4/5] END max_depth=4, n_estimators=500; neg_root_mean_squared_error: (test=-0.442) r2: (test=0.953) total time=   0.6s\n",
      "[CV 5/5] END max_depth=4, n_estimators=500; neg_root_mean_squared_error: (test=-0.217) r2: (test=0.987) total time=   0.6s\n",
      "[CV 1/5] END max_depth=5, n_estimators=100; neg_root_mean_squared_error: (test=-0.362) r2: (test=0.966) total time=   0.1s\n",
      "[CV 2/5] END max_depth=5, n_estimators=100; neg_root_mean_squared_error: (test=-0.425) r2: (test=0.955) total time=   0.1s\n",
      "[CV 3/5] END max_depth=5, n_estimators=100; neg_root_mean_squared_error: (test=-0.341) r2: (test=0.973) total time=   0.1s\n",
      "[CV 4/5] END max_depth=5, n_estimators=100; neg_root_mean_squared_error: (test=-0.407) r2: (test=0.960) total time=   0.1s\n",
      "[CV 5/5] END max_depth=5, n_estimators=100; neg_root_mean_squared_error: (test=-0.210) r2: (test=0.988) total time=   0.1s\n",
      "[CV 1/5] END max_depth=5, n_estimators=200; neg_root_mean_squared_error: (test=-0.361) r2: (test=0.966) total time=   0.2s\n",
      "[CV 2/5] END max_depth=5, n_estimators=200; neg_root_mean_squared_error: (test=-0.425) r2: (test=0.955) total time=   0.2s\n",
      "[CV 3/5] END max_depth=5, n_estimators=200; neg_root_mean_squared_error: (test=-0.338) r2: (test=0.973) total time=   0.2s\n",
      "[CV 4/5] END max_depth=5, n_estimators=200; neg_root_mean_squared_error: (test=-0.404) r2: (test=0.960) total time=   0.2s\n",
      "[CV 5/5] END max_depth=5, n_estimators=200; neg_root_mean_squared_error: (test=-0.206) r2: (test=0.988) total time=   0.2s\n",
      "[CV 1/5] END max_depth=5, n_estimators=300; neg_root_mean_squared_error: (test=-0.360) r2: (test=0.966) total time=   0.4s\n",
      "[CV 2/5] END max_depth=5, n_estimators=300; neg_root_mean_squared_error: (test=-0.424) r2: (test=0.955) total time=   0.4s\n",
      "[CV 3/5] END max_depth=5, n_estimators=300; neg_root_mean_squared_error: (test=-0.337) r2: (test=0.973) total time=   0.3s\n",
      "[CV 4/5] END max_depth=5, n_estimators=300; neg_root_mean_squared_error: (test=-0.403) r2: (test=0.961) total time=   0.4s\n",
      "[CV 5/5] END max_depth=5, n_estimators=300; neg_root_mean_squared_error: (test=-0.205) r2: (test=0.989) total time=   0.4s\n",
      "[CV 1/5] END max_depth=5, n_estimators=400; neg_root_mean_squared_error: (test=-0.360) r2: (test=0.966) total time=   0.6s\n",
      "[CV 2/5] END max_depth=5, n_estimators=400; neg_root_mean_squared_error: (test=-0.424) r2: (test=0.955) total time=   0.6s\n",
      "[CV 3/5] END max_depth=5, n_estimators=400; neg_root_mean_squared_error: (test=-0.337) r2: (test=0.973) total time=   0.5s\n",
      "[CV 4/5] END max_depth=5, n_estimators=400; neg_root_mean_squared_error: (test=-0.403) r2: (test=0.961) total time=   0.5s\n",
      "[CV 5/5] END max_depth=5, n_estimators=400; neg_root_mean_squared_error: (test=-0.205) r2: (test=0.989) total time=   0.5s\n",
      "[CV 1/5] END max_depth=5, n_estimators=500; neg_root_mean_squared_error: (test=-0.360) r2: (test=0.966) total time=   0.5s\n",
      "[CV 2/5] END max_depth=5, n_estimators=500; neg_root_mean_squared_error: (test=-0.424) r2: (test=0.955) total time=   0.5s\n",
      "[CV 3/5] END max_depth=5, n_estimators=500; neg_root_mean_squared_error: (test=-0.337) r2: (test=0.973) total time=   0.6s\n",
      "[CV 4/5] END max_depth=5, n_estimators=500; neg_root_mean_squared_error: (test=-0.403) r2: (test=0.961) total time=   0.7s\n",
      "[CV 5/5] END max_depth=5, n_estimators=500; neg_root_mean_squared_error: (test=-0.205) r2: (test=0.989) total time=   0.6s\n",
      "[CV 1/5] END max_depth=6, n_estimators=100; neg_root_mean_squared_error: (test=-0.337) r2: (test=0.971) total time=   0.1s\n",
      "[CV 2/5] END max_depth=6, n_estimators=100; neg_root_mean_squared_error: (test=-0.417) r2: (test=0.957) total time=   0.1s\n",
      "[CV 3/5] END max_depth=6, n_estimators=100; neg_root_mean_squared_error: (test=-0.368) r2: (test=0.968) total time=   0.1s\n",
      "[CV 4/5] END max_depth=6, n_estimators=100; neg_root_mean_squared_error: (test=-0.405) r2: (test=0.960) total time=   0.1s\n",
      "[CV 5/5] END max_depth=6, n_estimators=100; neg_root_mean_squared_error: (test=-0.175) r2: (test=0.992) total time=   0.1s\n",
      "[CV 1/5] END max_depth=6, n_estimators=200; neg_root_mean_squared_error: (test=-0.336) r2: (test=0.971) total time=   0.3s\n",
      "[CV 2/5] END max_depth=6, n_estimators=200; neg_root_mean_squared_error: (test=-0.417) r2: (test=0.957) total time=   0.2s\n",
      "[CV 3/5] END max_depth=6, n_estimators=200; neg_root_mean_squared_error: (test=-0.369) r2: (test=0.968) total time=   0.2s\n",
      "[CV 4/5] END max_depth=6, n_estimators=200; neg_root_mean_squared_error: (test=-0.405) r2: (test=0.960) total time=   0.2s\n"
     ]
    },
    {
     "name": "stdout",
     "output_type": "stream",
     "text": [
      "[CV 5/5] END max_depth=6, n_estimators=200; neg_root_mean_squared_error: (test=-0.175) r2: (test=0.992) total time=   0.3s\n",
      "[CV 1/5] END max_depth=6, n_estimators=300; neg_root_mean_squared_error: (test=-0.336) r2: (test=0.971) total time=   0.3s\n",
      "[CV 2/5] END max_depth=6, n_estimators=300; neg_root_mean_squared_error: (test=-0.417) r2: (test=0.957) total time=   0.3s\n",
      "[CV 3/5] END max_depth=6, n_estimators=300; neg_root_mean_squared_error: (test=-0.369) r2: (test=0.968) total time=   0.3s\n",
      "[CV 4/5] END max_depth=6, n_estimators=300; neg_root_mean_squared_error: (test=-0.405) r2: (test=0.960) total time=   0.3s\n",
      "[CV 5/5] END max_depth=6, n_estimators=300; neg_root_mean_squared_error: (test=-0.175) r2: (test=0.992) total time=   0.4s\n",
      "[CV 1/5] END max_depth=6, n_estimators=400; neg_root_mean_squared_error: (test=-0.336) r2: (test=0.971) total time=   0.4s\n",
      "[CV 2/5] END max_depth=6, n_estimators=400; neg_root_mean_squared_error: (test=-0.417) r2: (test=0.957) total time=   0.5s\n",
      "[CV 3/5] END max_depth=6, n_estimators=400; neg_root_mean_squared_error: (test=-0.369) r2: (test=0.968) total time=   0.4s\n",
      "[CV 4/5] END max_depth=6, n_estimators=400; neg_root_mean_squared_error: (test=-0.405) r2: (test=0.960) total time=   0.4s\n",
      "[CV 5/5] END max_depth=6, n_estimators=400; neg_root_mean_squared_error: (test=-0.175) r2: (test=0.992) total time=   0.5s\n",
      "[CV 1/5] END max_depth=6, n_estimators=500; neg_root_mean_squared_error: (test=-0.336) r2: (test=0.971) total time=   0.5s\n",
      "[CV 2/5] END max_depth=6, n_estimators=500; neg_root_mean_squared_error: (test=-0.417) r2: (test=0.957) total time=   0.5s\n",
      "[CV 3/5] END max_depth=6, n_estimators=500; neg_root_mean_squared_error: (test=-0.369) r2: (test=0.968) total time=   0.5s\n",
      "[CV 4/5] END max_depth=6, n_estimators=500; neg_root_mean_squared_error: (test=-0.405) r2: (test=0.960) total time=   0.5s\n",
      "[CV 5/5] END max_depth=6, n_estimators=500; neg_root_mean_squared_error: (test=-0.175) r2: (test=0.992) total time=   0.5s\n",
      "[CV 1/5] END max_depth=7, n_estimators=100; neg_root_mean_squared_error: (test=-0.337) r2: (test=0.971) total time=   0.1s\n",
      "[CV 2/5] END max_depth=7, n_estimators=100; neg_root_mean_squared_error: (test=-0.427) r2: (test=0.954) total time=   0.1s\n",
      "[CV 3/5] END max_depth=7, n_estimators=100; neg_root_mean_squared_error: (test=-0.342) r2: (test=0.973) total time=   0.1s\n",
      "[CV 4/5] END max_depth=7, n_estimators=100; neg_root_mean_squared_error: (test=-0.437) r2: (test=0.954) total time=   0.1s\n",
      "[CV 5/5] END max_depth=7, n_estimators=100; neg_root_mean_squared_error: (test=-0.169) r2: (test=0.992) total time=   0.1s\n",
      "[CV 1/5] END max_depth=7, n_estimators=200; neg_root_mean_squared_error: (test=-0.337) r2: (test=0.971) total time=   0.2s\n",
      "[CV 2/5] END max_depth=7, n_estimators=200; neg_root_mean_squared_error: (test=-0.427) r2: (test=0.954) total time=   0.2s\n",
      "[CV 3/5] END max_depth=7, n_estimators=200; neg_root_mean_squared_error: (test=-0.342) r2: (test=0.973) total time=   0.2s\n",
      "[CV 4/5] END max_depth=7, n_estimators=200; neg_root_mean_squared_error: (test=-0.437) r2: (test=0.954) total time=   0.2s\n",
      "[CV 5/5] END max_depth=7, n_estimators=200; neg_root_mean_squared_error: (test=-0.169) r2: (test=0.992) total time=   0.2s\n",
      "[CV 1/5] END max_depth=7, n_estimators=300; neg_root_mean_squared_error: (test=-0.337) r2: (test=0.971) total time=   0.3s\n",
      "[CV 2/5] END max_depth=7, n_estimators=300; neg_root_mean_squared_error: (test=-0.427) r2: (test=0.954) total time=   0.3s\n",
      "[CV 3/5] END max_depth=7, n_estimators=300; neg_root_mean_squared_error: (test=-0.342) r2: (test=0.973) total time=   0.3s\n",
      "[CV 4/5] END max_depth=7, n_estimators=300; neg_root_mean_squared_error: (test=-0.437) r2: (test=0.954) total time=   0.4s\n",
      "[CV 5/5] END max_depth=7, n_estimators=300; neg_root_mean_squared_error: (test=-0.169) r2: (test=0.992) total time=   0.4s\n",
      "[CV 1/5] END max_depth=7, n_estimators=400; neg_root_mean_squared_error: (test=-0.337) r2: (test=0.971) total time=   0.4s\n",
      "[CV 2/5] END max_depth=7, n_estimators=400; neg_root_mean_squared_error: (test=-0.427) r2: (test=0.954) total time=   0.4s\n",
      "[CV 3/5] END max_depth=7, n_estimators=400; neg_root_mean_squared_error: (test=-0.342) r2: (test=0.973) total time=   0.4s\n",
      "[CV 4/5] END max_depth=7, n_estimators=400; neg_root_mean_squared_error: (test=-0.437) r2: (test=0.954) total time=   0.4s\n",
      "[CV 5/5] END max_depth=7, n_estimators=400; neg_root_mean_squared_error: (test=-0.169) r2: (test=0.992) total time=   0.4s\n",
      "[CV 1/5] END max_depth=7, n_estimators=500; neg_root_mean_squared_error: (test=-0.337) r2: (test=0.971) total time=   0.5s\n",
      "[CV 2/5] END max_depth=7, n_estimators=500; neg_root_mean_squared_error: (test=-0.427) r2: (test=0.954) total time=   0.5s\n",
      "[CV 3/5] END max_depth=7, n_estimators=500; neg_root_mean_squared_error: (test=-0.342) r2: (test=0.973) total time=   0.4s\n",
      "[CV 4/5] END max_depth=7, n_estimators=500; neg_root_mean_squared_error: (test=-0.437) r2: (test=0.954) total time=   0.5s\n",
      "[CV 5/5] END max_depth=7, n_estimators=500; neg_root_mean_squared_error: (test=-0.169) r2: (test=0.992) total time=   0.5s\n",
      "[CV 1/5] END max_depth=8, n_estimators=100; neg_root_mean_squared_error: (test=-0.371) r2: (test=0.964) total time=   0.1s\n",
      "[CV 2/5] END max_depth=8, n_estimators=100; neg_root_mean_squared_error: (test=-0.450) r2: (test=0.949) total time=   0.1s\n",
      "[CV 3/5] END max_depth=8, n_estimators=100; neg_root_mean_squared_error: (test=-0.348) r2: (test=0.972) total time=   0.1s\n",
      "[CV 4/5] END max_depth=8, n_estimators=100; neg_root_mean_squared_error: (test=-0.396) r2: (test=0.962) total time=   0.1s\n",
      "[CV 5/5] END max_depth=8, n_estimators=100; neg_root_mean_squared_error: (test=-0.173) r2: (test=0.992) total time=   0.1s\n",
      "[CV 1/5] END max_depth=8, n_estimators=200; neg_root_mean_squared_error: (test=-0.371) r2: (test=0.964) total time=   0.2s\n",
      "[CV 2/5] END max_depth=8, n_estimators=200; neg_root_mean_squared_error: (test=-0.450) r2: (test=0.949) total time=   0.2s\n",
      "[CV 3/5] END max_depth=8, n_estimators=200; neg_root_mean_squared_error: (test=-0.348) r2: (test=0.972) total time=   0.2s\n",
      "[CV 4/5] END max_depth=8, n_estimators=200; neg_root_mean_squared_error: (test=-0.396) r2: (test=0.962) total time=   0.2s\n",
      "[CV 5/5] END max_depth=8, n_estimators=200; neg_root_mean_squared_error: (test=-0.173) r2: (test=0.992) total time=   0.2s\n",
      "[CV 1/5] END max_depth=8, n_estimators=300; neg_root_mean_squared_error: (test=-0.371) r2: (test=0.964) total time=   0.3s\n",
      "[CV 2/5] END max_depth=8, n_estimators=300; neg_root_mean_squared_error: (test=-0.450) r2: (test=0.949) total time=   0.3s\n",
      "[CV 3/5] END max_depth=8, n_estimators=300; neg_root_mean_squared_error: (test=-0.348) r2: (test=0.972) total time=   0.3s\n",
      "[CV 4/5] END max_depth=8, n_estimators=300; neg_root_mean_squared_error: (test=-0.396) r2: (test=0.962) total time=   0.3s\n",
      "[CV 5/5] END max_depth=8, n_estimators=300; neg_root_mean_squared_error: (test=-0.173) r2: (test=0.992) total time=   0.3s\n",
      "[CV 1/5] END max_depth=8, n_estimators=400; neg_root_mean_squared_error: (test=-0.371) r2: (test=0.964) total time=   0.3s\n",
      "[CV 2/5] END max_depth=8, n_estimators=400; neg_root_mean_squared_error: (test=-0.450) r2: (test=0.949) total time=   0.4s\n",
      "[CV 3/5] END max_depth=8, n_estimators=400; neg_root_mean_squared_error: (test=-0.348) r2: (test=0.972) total time=   0.3s\n",
      "[CV 4/5] END max_depth=8, n_estimators=400; neg_root_mean_squared_error: (test=-0.396) r2: (test=0.962) total time=   0.4s\n",
      "[CV 5/5] END max_depth=8, n_estimators=400; neg_root_mean_squared_error: (test=-0.173) r2: (test=0.992) total time=   0.4s\n",
      "[CV 1/5] END max_depth=8, n_estimators=500; neg_root_mean_squared_error: (test=-0.371) r2: (test=0.964) total time=   0.4s\n",
      "[CV 2/5] END max_depth=8, n_estimators=500; neg_root_mean_squared_error: (test=-0.450) r2: (test=0.949) total time=   0.5s\n",
      "[CV 3/5] END max_depth=8, n_estimators=500; neg_root_mean_squared_error: (test=-0.348) r2: (test=0.972) total time=   0.4s\n",
      "[CV 4/5] END max_depth=8, n_estimators=500; neg_root_mean_squared_error: (test=-0.396) r2: (test=0.962) total time=   0.5s\n",
      "[CV 5/5] END max_depth=8, n_estimators=500; neg_root_mean_squared_error: (test=-0.173) r2: (test=0.992) total time=   0.5s\n",
      "[CV 1/5] END max_depth=9, n_estimators=100; neg_root_mean_squared_error: (test=-0.398) r2: (test=0.959) total time=   0.2s\n"
     ]
    },
    {
     "name": "stdout",
     "output_type": "stream",
     "text": [
      "[CV 2/5] END max_depth=9, n_estimators=100; neg_root_mean_squared_error: (test=-0.476) r2: (test=0.943) total time=   0.2s\n",
      "[CV 3/5] END max_depth=9, n_estimators=100; neg_root_mean_squared_error: (test=-0.400) r2: (test=0.962) total time=   0.2s\n",
      "[CV 4/5] END max_depth=9, n_estimators=100; neg_root_mean_squared_error: (test=-0.393) r2: (test=0.963) total time=   0.2s\n",
      "[CV 5/5] END max_depth=9, n_estimators=100; neg_root_mean_squared_error: (test=-0.163) r2: (test=0.993) total time=   0.2s\n",
      "[CV 1/5] END max_depth=9, n_estimators=200; neg_root_mean_squared_error: (test=-0.398) r2: (test=0.959) total time=   0.2s\n",
      "[CV 2/5] END max_depth=9, n_estimators=200; neg_root_mean_squared_error: (test=-0.476) r2: (test=0.943) total time=   0.2s\n",
      "[CV 3/5] END max_depth=9, n_estimators=200; neg_root_mean_squared_error: (test=-0.400) r2: (test=0.962) total time=   0.2s\n",
      "[CV 4/5] END max_depth=9, n_estimators=200; neg_root_mean_squared_error: (test=-0.393) r2: (test=0.963) total time=   0.2s\n",
      "[CV 5/5] END max_depth=9, n_estimators=200; neg_root_mean_squared_error: (test=-0.163) r2: (test=0.993) total time=   0.2s\n",
      "[CV 1/5] END max_depth=9, n_estimators=300; neg_root_mean_squared_error: (test=-0.398) r2: (test=0.959) total time=   0.2s\n",
      "[CV 2/5] END max_depth=9, n_estimators=300; neg_root_mean_squared_error: (test=-0.476) r2: (test=0.943) total time=   0.3s\n",
      "[CV 3/5] END max_depth=9, n_estimators=300; neg_root_mean_squared_error: (test=-0.400) r2: (test=0.962) total time=   0.3s\n",
      "[CV 4/5] END max_depth=9, n_estimators=300; neg_root_mean_squared_error: (test=-0.393) r2: (test=0.963) total time=   0.3s\n",
      "[CV 5/5] END max_depth=9, n_estimators=300; neg_root_mean_squared_error: (test=-0.163) r2: (test=0.993) total time=   0.3s\n",
      "[CV 1/5] END max_depth=9, n_estimators=400; neg_root_mean_squared_error: (test=-0.398) r2: (test=0.959) total time=   0.4s\n",
      "[CV 2/5] END max_depth=9, n_estimators=400; neg_root_mean_squared_error: (test=-0.476) r2: (test=0.943) total time=   0.3s\n",
      "[CV 3/5] END max_depth=9, n_estimators=400; neg_root_mean_squared_error: (test=-0.400) r2: (test=0.962) total time=   0.4s\n",
      "[CV 4/5] END max_depth=9, n_estimators=400; neg_root_mean_squared_error: (test=-0.393) r2: (test=0.963) total time=   0.3s\n",
      "[CV 5/5] END max_depth=9, n_estimators=400; neg_root_mean_squared_error: (test=-0.163) r2: (test=0.993) total time=   0.3s\n",
      "[CV 1/5] END max_depth=9, n_estimators=500; neg_root_mean_squared_error: (test=-0.398) r2: (test=0.959) total time=   0.4s\n",
      "[CV 2/5] END max_depth=9, n_estimators=500; neg_root_mean_squared_error: (test=-0.476) r2: (test=0.943) total time=   0.4s\n",
      "[CV 3/5] END max_depth=9, n_estimators=500; neg_root_mean_squared_error: (test=-0.400) r2: (test=0.962) total time=   0.4s\n",
      "[CV 4/5] END max_depth=9, n_estimators=500; neg_root_mean_squared_error: (test=-0.393) r2: (test=0.963) total time=   0.4s\n",
      "[CV 5/5] END max_depth=9, n_estimators=500; neg_root_mean_squared_error: (test=-0.163) r2: (test=0.993) total time=   0.4s\n"
     ]
    },
    {
     "data": {
      "text/plain": [
       "GridSearchCV(cv=5,\n",
       "             estimator=XGBRegressor(base_score=None, booster=None,\n",
       "                                    callbacks=None, colsample_bylevel=None,\n",
       "                                    colsample_bynode=None,\n",
       "                                    colsample_bytree=None,\n",
       "                                    early_stopping_rounds=None,\n",
       "                                    enable_categorical=False, eval_metric=None,\n",
       "                                    gamma=None, gpu_id=None, grow_policy=None,\n",
       "                                    importance_type=None,\n",
       "                                    interaction_constraints=None,\n",
       "                                    learning_rate=None, max_bin=None,\n",
       "                                    max_cat...\n",
       "                                    max_depth=None, max_leaves=None,\n",
       "                                    min_child_weight=None, missing=nan,\n",
       "                                    monotone_constraints=None, n_estimators=100,\n",
       "                                    n_jobs=None, num_parallel_tree=None,\n",
       "                                    predictor=None, random_state=0,\n",
       "                                    reg_alpha=None, reg_lambda=None, ...),\n",
       "             param_grid={'max_depth': [1, 2, 3, 4, 5, 6, 7, 8, 9],\n",
       "                         'n_estimators': [100, 200, 300, 400, 500]},\n",
       "             refit='r2', scoring=['r2', 'neg_root_mean_squared_error'],\n",
       "             verbose=4)"
      ]
     },
     "execution_count": 33,
     "metadata": {},
     "output_type": "execute_result"
    }
   ],
   "source": [
    "GS.fit(X_train_balanced, y_train_balanced)"
   ]
  },
  {
   "cell_type": "code",
   "execution_count": 34,
   "id": "67ef846f",
   "metadata": {},
   "outputs": [
    {
     "name": "stdout",
     "output_type": "stream",
     "text": [
      "XGBRegressor(base_score=0.5, booster='gbtree', callbacks=None,\n",
      "             colsample_bylevel=1, colsample_bynode=1, colsample_bytree=1,\n",
      "             early_stopping_rounds=None, enable_categorical=False,\n",
      "             eval_metric=None, gamma=0, gpu_id=-1, grow_policy='depthwise',\n",
      "             importance_type=None, interaction_constraints='',\n",
      "             learning_rate=0.300000012, max_bin=256, max_cat_to_onehot=4,\n",
      "             max_delta_step=0, max_depth=6, max_leaves=0, min_child_weight=1,\n",
      "             missing=nan, monotone_constraints='()', n_estimators=300, n_jobs=0,\n",
      "             num_parallel_tree=1, predictor='auto', random_state=0, reg_alpha=0,\n",
      "             reg_lambda=1, ...)\n"
     ]
    }
   ],
   "source": [
    "print(GS.best_estimator_)"
   ]
  },
  {
   "cell_type": "code",
   "execution_count": 35,
   "id": "eb830def",
   "metadata": {},
   "outputs": [
    {
     "name": "stdout",
     "output_type": "stream",
     "text": [
      "{'max_depth': 6, 'n_estimators': 300}\n"
     ]
    }
   ],
   "source": [
    "print(GS.best_params_)"
   ]
  },
  {
   "cell_type": "code",
   "execution_count": 36,
   "id": "b9d7bb9e",
   "metadata": {},
   "outputs": [
    {
     "name": "stdout",
     "output_type": "stream",
     "text": [
      "0.9694228121971626\n"
     ]
    }
   ],
   "source": [
    "print(GS.best_score_)"
   ]
  },
  {
   "cell_type": "code",
   "execution_count": 37,
   "id": "6c567c4c",
   "metadata": {},
   "outputs": [
    {
     "data": {
      "text/plain": [
       "(0.8647959183673469, 0.817966903073286)"
      ]
     },
     "execution_count": 37,
     "metadata": {},
     "output_type": "execute_result"
    }
   ],
   "source": [
    "best_model = RandomForestClassifier(n_estimators=500, max_depth=4, random_state=0)\n",
    "eval_model(best_model, X_train_balanced, y_train_balanced, X_test, y_test)"
   ]
  },
  {
   "cell_type": "code",
   "execution_count": null,
   "id": "7036a936",
   "metadata": {},
   "outputs": [],
   "source": []
  },
  {
   "cell_type": "code",
   "execution_count": null,
   "id": "503452dd",
   "metadata": {},
   "outputs": [],
   "source": []
  }
 ],
 "metadata": {
  "kernelspec": {
   "display_name": "Python 3 (ipykernel)",
   "language": "python",
   "name": "python3"
  },
  "language_info": {
   "codemirror_mode": {
    "name": "ipython",
    "version": 3
   },
   "file_extension": ".py",
   "mimetype": "text/x-python",
   "name": "python",
   "nbconvert_exporter": "python",
   "pygments_lexer": "ipython3",
   "version": "3.9.7"
  }
 },
 "nbformat": 4,
 "nbformat_minor": 5
}
